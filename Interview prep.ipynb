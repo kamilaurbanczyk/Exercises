{
 "cells": [
  {
   "cell_type": "markdown",
   "metadata": {},
   "source": [
    "## 1.1 Python Slice object ##\n",
    "* slice_object = slice(start:stop:step)\n",
    "* start, step - optional\n",
    "* a[slice(start:stop:step)] == a[start:stop:step]"
   ]
  },
  {
   "cell_type": "code",
   "execution_count": 4,
   "metadata": {},
   "outputs": [
    {
     "data": {
      "text/plain": [
       "'oo'"
      ]
     },
     "execution_count": 4,
     "metadata": {},
     "output_type": "execute_result"
    }
   ],
   "source": [
    "my_string = 'Honolulu'\n",
    "slice_object = slice(1,4,2)\n",
    "my_string[slice_object]"
   ]
  },
  {
   "cell_type": "code",
   "execution_count": 87,
   "metadata": {},
   "outputs": [
    {
     "data": {
      "text/plain": [
       "[7, 6, 5, 4, 3, 2, 1]"
      ]
     },
     "execution_count": 87,
     "metadata": {},
     "output_type": "execute_result"
    }
   ],
   "source": [
    "my_list = [1,2,3,4,5,6,7]\n",
    "my_list[::-1]"
   ]
  },
  {
   "cell_type": "code",
   "execution_count": 88,
   "metadata": {},
   "outputs": [
    {
     "data": {
      "text/plain": [
       "[7, 6, 5]"
      ]
     },
     "execution_count": 88,
     "metadata": {},
     "output_type": "execute_result"
    }
   ],
   "source": [
    "my_list[:3:-1]"
   ]
  },
  {
   "cell_type": "code",
   "execution_count": 91,
   "metadata": {},
   "outputs": [
    {
     "data": {
      "text/plain": [
       "[4, 3]"
      ]
     },
     "execution_count": 91,
     "metadata": {},
     "output_type": "execute_result"
    }
   ],
   "source": [
    "my_list[3:1:-1]"
   ]
  },
  {
   "cell_type": "code",
   "execution_count": 9,
   "metadata": {},
   "outputs": [
    {
     "data": {
      "text/plain": [
       "[7, 6, 5, 4, 3]"
      ]
     },
     "execution_count": 9,
     "metadata": {},
     "output_type": "execute_result"
    }
   ],
   "source": [
    "my_list[6:1:-1]"
   ]
  },
  {
   "cell_type": "markdown",
   "metadata": {},
   "source": [
    "## 1.2 Python Comprehensions ##\n",
    "* Allow to create new sequences (such as lists, sets, dictionaries, generators) from existing sequences\n",
    "\n",
    "### List comprehensions ###\n",
    "* output_list = [output_exp for var in input_list if (var satisfies this condition)]"
   ]
  },
  {
   "cell_type": "code",
   "execution_count": 11,
   "metadata": {},
   "outputs": [
    {
     "data": {
      "text/plain": [
       "[1, 3, 5, 7, 9]"
      ]
     },
     "execution_count": 11,
     "metadata": {},
     "output_type": "execute_result"
    }
   ],
   "source": [
    "list1 = [0,1,2,3,4,5,6,7,8,9]\n",
    "\n",
    "new_list = [n for n in list1 if n%2 == 1]\n",
    "new_list"
   ]
  },
  {
   "cell_type": "code",
   "execution_count": 13,
   "metadata": {},
   "outputs": [
    {
     "name": "stdout",
     "output_type": "stream",
     "text": [
      "[0, 3, 6, 9, 12, 15, 18, 21, 24, 27, 30, 33, 36, 39, 42, 45, 48, 51, 54, 57, 60, 63, 66, 69, 72, 75, 78, 81, 84, 87, 90, 93, 96, 99]\n"
     ]
    }
   ],
   "source": [
    "nat_list3 = [n for n in range(100) if n%3 == 0]\n",
    "print(nat_list3)"
   ]
  },
  {
   "cell_type": "code",
   "execution_count": 15,
   "metadata": {},
   "outputs": [
    {
     "data": {
      "text/plain": [
       "[1, 4, 9, 16, 25, 36, 49, 64, 81]"
      ]
     },
     "execution_count": 15,
     "metadata": {},
     "output_type": "execute_result"
    }
   ],
   "source": [
    "squared = [n**2 for n in range(1,10)]\n",
    "squared"
   ]
  },
  {
   "cell_type": "markdown",
   "metadata": {},
   "source": [
    "### Dictionary Comprehensions ###\n",
    "* output_dict = {key:value for (key, value) in iterable if (key, value satisfy this condition)}"
   ]
  },
  {
   "cell_type": "code",
   "execution_count": 25,
   "metadata": {},
   "outputs": [
    {
     "data": {
      "text/plain": [
       "{1: 1, 3: 27, 5: 125, 9: 729, 11: 1331, 15: 3375}"
      ]
     },
     "execution_count": 25,
     "metadata": {},
     "output_type": "execute_result"
    }
   ],
   "source": [
    "# Create an output dictionary which contains only the odd numbers that are present in the input list as keys \n",
    "# and their cubes as values\n",
    "\n",
    "dict1 = {1, 2, 3, 5, 6, 8, 9, 11, 12, 14, 15}\n",
    "\n",
    "new_dict = {n: n**3 for n in dict1 if n % 2 == 1}\n",
    "new_dict"
   ]
  },
  {
   "cell_type": "code",
   "execution_count": 24,
   "metadata": {},
   "outputs": [
    {
     "data": {
      "text/plain": [
       "{'arizona': 'a', 'texas': 't', 'michigan': 'm', 'washington': 'w'}"
      ]
     },
     "execution_count": 24,
     "metadata": {},
     "output_type": "execute_result"
    }
   ],
   "source": [
    "# Given two lists containing the names of states and their corresponding capitals, \n",
    "# construct a dictionary which maps the states with their respective capitals.\n",
    "\n",
    "states = ['arizona', 'texas', 'michigan', 'washington']\n",
    "capitals = ['a', 't', 'm', 'w']\n",
    "\n",
    "my_dict = {x: y for (x, y) in zip(states, capitals)}\n",
    "my_dict"
   ]
  },
  {
   "cell_type": "markdown",
   "metadata": {},
   "source": [
    "### Set comprehensions ### \n",
    "* output_set = {output_exp for var in iterable if (var satisfies condition)}\n",
    "\n",
    "\n"
   ]
  },
  {
   "cell_type": "code",
   "execution_count": 1,
   "metadata": {},
   "outputs": [
    {
     "data": {
      "text/plain": [
       "{2, 6, 10, 12}"
      ]
     },
     "execution_count": 1,
     "metadata": {},
     "output_type": "execute_result"
    }
   ],
   "source": [
    "input_list = [1, 2, 2, 2, 3, 5, 6, 6, 7, 9, 10, 10, 12]\n",
    "output_set = {n for n in input_list if n % 2 == 0}\n",
    "output_set"
   ]
  },
  {
   "cell_type": "markdown",
   "metadata": {},
   "source": [
    "### Generator Comprehensions ###\n",
    "* output_gen = (var for var in iterable if (var satisfies a condition))"
   ]
  },
  {
   "cell_type": "code",
   "execution_count": 6,
   "metadata": {},
   "outputs": [
    {
     "data": {
      "text/plain": [
       "<generator object <genexpr> at 0x0000021D665620C8>"
      ]
     },
     "execution_count": 6,
     "metadata": {},
     "output_type": "execute_result"
    }
   ],
   "source": [
    "input_list = [1, 2, 2, 2, 3, 5, 6, 6, 7, 9, 10, 10, 12]\n",
    "output_gen = (n**2 for n in input_list if n % 2 ==1)\n",
    "output_gen"
   ]
  },
  {
   "cell_type": "markdown",
   "metadata": {},
   "source": [
    "### If, else with list comprehensions ###"
   ]
  },
  {
   "cell_type": "code",
   "execution_count": 13,
   "metadata": {},
   "outputs": [
    {
     "name": "stdout",
     "output_type": "stream",
     "text": [
      "['Even', 'Odd', 'Even', 'Odd', 'Even', 'Odd', 'Even', 'Odd', 'Even', 'Odd', 'Even', 'Odd', 'Even', 'Odd', 'Even', 'Odd', 'Even', 'Odd', 'Even', 'Odd']\n"
     ]
    }
   ],
   "source": [
    "output_list = ['Even' if n % 2 == 0 else 'Odd' for n in range(20)]\n",
    "print(output_list)"
   ]
  },
  {
   "cell_type": "markdown",
   "metadata": {},
   "source": [
    "### Exercises ###"
   ]
  },
  {
   "cell_type": "code",
   "execution_count": 5,
   "metadata": {},
   "outputs": [
    {
     "data": {
      "text/plain": [
       "['h', 'u', 'm', 'a', 'n']"
      ]
     },
     "execution_count": 5,
     "metadata": {},
     "output_type": "execute_result"
    }
   ],
   "source": [
    "# Separate the letters of the word 'human' and add the letters as items of a list \n",
    "letters_list = [letter for letter in 'human']\n",
    "letters_list"
   ]
  },
  {
   "cell_type": "code",
   "execution_count": 14,
   "metadata": {},
   "outputs": [
    {
     "data": {
      "text/plain": [
       "[[7, 3, 5], [18, 6, 0], [2, 11, 23]]"
      ]
     },
     "execution_count": 14,
     "metadata": {},
     "output_type": "execute_result"
    }
   ],
   "source": [
    "# Transpose of a Matrix using list comprehensions\n",
    "matrix = [[7, 18, 2], [3, 6, 11], [5, 0, 23]]\n",
    "\n",
    "transposed = [[row[i] for row in matrix] for i in range(3)]\n",
    "transposed"
   ]
  },
  {
   "cell_type": "code",
   "execution_count": 15,
   "metadata": {},
   "outputs": [
    {
     "data": {
      "text/plain": [
       "['bana234s']"
      ]
     },
     "execution_count": 15,
     "metadata": {},
     "output_type": "execute_result"
    }
   ],
   "source": [
    "# Multiple conditions\n",
    "words = ['hakuna45', '45sad', 'bana234s', 'flightto90']\n",
    "output_list = [string for string in words if string.startswith('b') and '45' not in string]\n",
    "output_list"
   ]
  },
  {
   "cell_type": "markdown",
   "metadata": {},
   "source": [
    "## 1.3 Python Decorators ##\n",
    "* decorator is a function that wraps another function \n",
    "* decorator is called with @decorator (pie sign)"
   ]
  },
  {
   "cell_type": "code",
   "execution_count": 29,
   "metadata": {},
   "outputs": [
    {
     "name": "stdout",
     "output_type": "stream",
     "text": [
      "I am doing something before calling a function\n",
      "Hello everyone! \n",
      "I am doing something after calling a function\n"
     ]
    }
   ],
   "source": [
    "# Ex. 1\n",
    "def my_decorator(my_func):\n",
    "    def wrapper():\n",
    "        print('I am doing something before calling a function')\n",
    "        my_func()\n",
    "        print('I am doing something after calling a function')\n",
    "    return wrapper()\n",
    "    \n",
    "def greeting():\n",
    "    print('Hello everyone! ')\n",
    "    \n",
    "my_decorator(greeting)"
   ]
  },
  {
   "cell_type": "markdown",
   "metadata": {},
   "source": [
    "<p><b><big>When calling decorator function we use refrence to decorated funtion, we are not calling it!</big></b></p>\n",
    "* <big>my_decorator(decorated_function) NOT my_decorator(decorated_function())</big>"
   ]
  },
  {
   "cell_type": "markdown",
   "metadata": {},
   "source": [
    "### Decorating with @ ###\n",
    "* Synctatic sugar: @my_decorator stands for:  greet=my_decorator(greet)"
   ]
  },
  {
   "cell_type": "code",
   "execution_count": 27,
   "metadata": {},
   "outputs": [
    {
     "name": "stdout",
     "output_type": "stream",
     "text": [
      "I am doing something before calling a function\n",
      "Hello everyone! \n",
      "I am doing something after calling a function\n"
     ]
    }
   ],
   "source": [
    "def my_decorator(my_func):\n",
    "    def wrapper():\n",
    "        print('I am doing something before calling a function')\n",
    "        my_func()\n",
    "        print('I am doing something after calling a function')\n",
    "    return wrapper \n",
    "\n",
    "@my_decorator\n",
    "def greeting():\n",
    "    print('Hello everyone! ')\n",
    "    \n",
    "greeting()"
   ]
  },
  {
   "cell_type": "markdown",
   "metadata": {},
   "source": [
    "### \\*args, \\**kwargs - Decorating functions with arguments ###"
   ]
  },
  {
   "cell_type": "code",
   "execution_count": 30,
   "metadata": {},
   "outputs": [
    {
     "ename": "TypeError",
     "evalue": "wrapper() takes 0 positional arguments but 1 was given",
     "output_type": "error",
     "traceback": [
      "\u001b[1;31m---------------------------------------------------------------------------\u001b[0m",
      "\u001b[1;31mTypeError\u001b[0m                                 Traceback (most recent call last)",
      "\u001b[1;32m<ipython-input-30-0c369051439a>\u001b[0m in \u001b[0;36m<module>\u001b[1;34m\u001b[0m\n\u001b[0;32m      3\u001b[0m     \u001b[1;32mreturn\u001b[0m \u001b[1;34m'Hello {}'\u001b[0m\u001b[1;33m.\u001b[0m\u001b[0mformat\u001b[0m\u001b[1;33m(\u001b[0m\u001b[0mname\u001b[0m\u001b[1;33m)\u001b[0m\u001b[1;33m\u001b[0m\u001b[1;33m\u001b[0m\u001b[0m\n\u001b[0;32m      4\u001b[0m \u001b[1;33m\u001b[0m\u001b[0m\n\u001b[1;32m----> 5\u001b[1;33m \u001b[0mgreet\u001b[0m\u001b[1;33m(\u001b[0m\u001b[1;34m'Asia'\u001b[0m\u001b[1;33m)\u001b[0m\u001b[1;33m\u001b[0m\u001b[1;33m\u001b[0m\u001b[0m\n\u001b[0m",
      "\u001b[1;31mTypeError\u001b[0m: wrapper() takes 0 positional arguments but 1 was given"
     ]
    }
   ],
   "source": [
    "# Decorator can't be used in the same way with function with some arguments, because the wrapper function takes no arguments.\n",
    "@my_decorator\n",
    "def greet(name):\n",
    "    return 'Hello {}'.format(name)\n",
    "\n",
    "greet('Asia')"
   ]
  },
  {
   "cell_type": "code",
   "execution_count": 53,
   "metadata": {},
   "outputs": [
    {
     "name": "stdout",
     "output_type": "stream",
     "text": [
      "I am doing something before calling a function\n",
      "Hello kamila\n",
      "I am doing something after calling a function\n"
     ]
    }
   ],
   "source": [
    "# Instead we can use *args, **kwargs - number of arguments passed to the function is not specified\n",
    "def my_decorator(my_func):\n",
    "    def wrapper(*args, **kwargs):\n",
    "        print('I am doing something before calling a function')\n",
    "        my_func(*args, **kwargs)\n",
    "        print('I am doing something after calling a function')\n",
    "    return wrapper \n",
    "\n",
    "@my_decorator\n",
    "def greet(name):\n",
    "    print('Hello {}'.format(name)) \n",
    "\n",
    "greet('Asia')"
   ]
  },
  {
   "cell_type": "markdown",
   "metadata": {},
   "source": [
    "### Returning value of decorated function ###"
   ]
  },
  {
   "cell_type": "code",
   "execution_count": 35,
   "metadata": {},
   "outputs": [
    {
     "name": "stdout",
     "output_type": "stream",
     "text": [
      "I am doing something before calling a function\n",
      "I am doing something after calling a function\n"
     ]
    }
   ],
   "source": [
    "def my_decorator(my_func):\n",
    "    def wrapper(*args, **kwargs):\n",
    "        print('I am doing something before calling a function')\n",
    "        my_func(*args, **kwargs)\n",
    "        print('I am doing something after calling a function')\n",
    "    return wrapper\n",
    "\n",
    "@my_decorator\n",
    "def greet(name):\n",
    "    return 'Hello {}'.format(name) \n",
    "\n",
    "my_string = greet('Asia')"
   ]
  },
  {
   "cell_type": "code",
   "execution_count": 35,
   "metadata": {},
   "outputs": [
    {
     "name": "stdout",
     "output_type": "stream",
     "text": [
      "None\n"
     ]
    }
   ],
   "source": [
    "print(my_string)"
   ]
  },
  {
   "cell_type": "code",
   "execution_count": 57,
   "metadata": {},
   "outputs": [
    {
     "name": "stdout",
     "output_type": "stream",
     "text": [
      "I am doing something before calling a function\n"
     ]
    },
    {
     "data": {
      "text/plain": [
       "'Hello asia'"
      ]
     },
     "execution_count": 57,
     "metadata": {},
     "output_type": "execute_result"
    }
   ],
   "source": [
    "# There is no value returned! That happens because wrapper function doeasn't return greet(), we have to change that\n",
    "\n",
    "def my_decorator(my_func):\n",
    "    def wrapper(*args, **kwargs):\n",
    "        print('I am doing something before calling a function')\n",
    "        my_func(*args, **kwargs)\n",
    "        return my_func(*args, **kwargs)\n",
    "    return wrapper \n",
    "\n",
    "@my_decorator\n",
    "def greet(name):\n",
    "    return 'Hello {}'.format(name) \n",
    "\n",
    "# Instead of using @ we can use this syntax:\n",
    "# dec = my_decorator(greet)\n",
    "# dec('asia')\n",
    "\n",
    "my_string = greet('Asia')\n",
    "my_string"
   ]
  },
  {
   "cell_type": "markdown",
   "metadata": {},
   "source": [
    "### Help() and .__name__ ###"
   ]
  },
  {
   "cell_type": "code",
   "execution_count": 45,
   "metadata": {},
   "outputs": [
    {
     "name": "stdout",
     "output_type": "stream",
     "text": [
      "Help on built-in function print in module builtins:\n",
      "\n",
      "print(...)\n",
      "    print(value, ..., sep=' ', end='\\n', file=sys.stdout, flush=False)\n",
      "    \n",
      "    Prints the values to a stream, or to sys.stdout by default.\n",
      "    Optional keyword arguments:\n",
      "    file:  a file-like object (stream); defaults to the current sys.stdout.\n",
      "    sep:   string inserted between values, default a space.\n",
      "    end:   string appended after the last value, default a newline.\n",
      "    flush: whether to forcibly flush the stream.\n",
      "\n"
     ]
    }
   ],
   "source": [
    "help(print)"
   ]
  },
  {
   "cell_type": "code",
   "execution_count": 46,
   "metadata": {},
   "outputs": [
    {
     "data": {
      "text/plain": [
       "'print'"
      ]
     },
     "execution_count": 46,
     "metadata": {},
     "output_type": "execute_result"
    }
   ],
   "source": [
    "print.__name__"
   ]
  },
  {
   "cell_type": "code",
   "execution_count": 47,
   "metadata": {},
   "outputs": [
    {
     "name": "stdout",
     "output_type": "stream",
     "text": [
      "Help on function wrapper in module __main__:\n",
      "\n",
      "wrapper(*args, **kwargs)\n",
      "\n"
     ]
    }
   ],
   "source": [
    "help(greet)"
   ]
  },
  {
   "cell_type": "code",
   "execution_count": 58,
   "metadata": {},
   "outputs": [
    {
     "data": {
      "text/plain": [
       "'greet'"
      ]
     },
     "execution_count": 58,
     "metadata": {},
     "output_type": "execute_result"
    }
   ],
   "source": [
    "greet.__name__"
   ]
  },
  {
   "cell_type": "markdown",
   "metadata": {},
   "source": [
    "### Usage of decorator functions ###\n",
    "* timing functions\n",
    "* debugging functions"
   ]
  },
  {
   "cell_type": "markdown",
   "metadata": {},
   "source": [
    "### Functools ###\n",
    "<p> After using decorator informations about function 'greet()' changed and it says that it's wrapper func. </p>\n",
    "<p> To avoid that kind of problem we should use @functools.wraps decorator, which will preserve information about the original function </p>"
   ]
  },
  {
   "cell_type": "code",
   "execution_count": 52,
   "metadata": {},
   "outputs": [
    {
     "data": {
      "text/plain": [
       "'greet'"
      ]
     },
     "execution_count": 52,
     "metadata": {},
     "output_type": "execute_result"
    }
   ],
   "source": [
    "import functools\n",
    "\n",
    "def my_decorator(my_func):\n",
    "    @functools.wraps(my_func)\n",
    "    def wrapper(*args, **kwargs):\n",
    "        my_func(*args, **kwargs)\n",
    "        return my_func(*args, **kwargs)\n",
    "    return wrapper \n",
    "\n",
    "@my_decorator\n",
    "def greet(name):\n",
    "    return 'Hello {}'.format(name) \n",
    "\n",
    "greet.__name__"
   ]
  },
  {
   "cell_type": "markdown",
   "metadata": {},
   "source": [
    "## 1.4 Multiple assignment in Python ## "
   ]
  },
  {
   "cell_type": "code",
   "execution_count": 54,
   "metadata": {},
   "outputs": [
    {
     "name": "stdout",
     "output_type": "stream",
     "text": [
      "100 200 300\n"
     ]
    }
   ],
   "source": [
    "a, b, c = 100, 200, 300\n",
    "print(a, b, c)"
   ]
  },
  {
   "cell_type": "code",
   "execution_count": 55,
   "metadata": {},
   "outputs": [
    {
     "name": "stdout",
     "output_type": "stream",
     "text": [
      "(10, 12, 3) <class 'tuple'>\n"
     ]
    }
   ],
   "source": [
    "a = 10, 12, 3\n",
    "print(a, type(a))"
   ]
  },
  {
   "cell_type": "code",
   "execution_count": 56,
   "metadata": {},
   "outputs": [
    {
     "ename": "ValueError",
     "evalue": "too many values to unpack (expected 2)",
     "output_type": "error",
     "traceback": [
      "\u001b[1;31m---------------------------------------------------------------------------\u001b[0m",
      "\u001b[1;31mValueError\u001b[0m                                Traceback (most recent call last)",
      "\u001b[1;32m<ipython-input-56-485285c4bf38>\u001b[0m in \u001b[0;36m<module>\u001b[1;34m\u001b[0m\n\u001b[1;32m----> 1\u001b[1;33m \u001b[0ma\u001b[0m\u001b[1;33m,\u001b[0m \u001b[0mb\u001b[0m \u001b[1;33m=\u001b[0m \u001b[1;36m20\u001b[0m\u001b[1;33m,\u001b[0m \u001b[1;36m30\u001b[0m\u001b[1;33m,\u001b[0m \u001b[1;36m40\u001b[0m\u001b[1;33m\u001b[0m\u001b[1;33m\u001b[0m\u001b[0m\n\u001b[0m",
      "\u001b[1;31mValueError\u001b[0m: too many values to unpack (expected 2)"
     ]
    }
   ],
   "source": [
    "a, b = 20, 30, 40"
   ]
  },
  {
   "cell_type": "code",
   "execution_count": 59,
   "metadata": {},
   "outputs": [
    {
     "name": "stdout",
     "output_type": "stream",
     "text": [
      "20 [30, 40] <class 'list'>\n"
     ]
    }
   ],
   "source": [
    "# * - assign rest as a list to variable 'b'\n",
    "a , *b = 20, 30, 40\n",
    "print(a, b, type(b))"
   ]
  },
  {
   "cell_type": "code",
   "execution_count": 60,
   "metadata": {},
   "outputs": [
    {
     "name": "stdout",
     "output_type": "stream",
     "text": [
      "True\n"
     ]
    }
   ],
   "source": [
    "# Be very careful with '=' assignment. When creating varaibles like this, they are one object.\n",
    "a = b = c = [23, 0, 11]\n",
    "\n",
    "print(a is b)"
   ]
  },
  {
   "cell_type": "code",
   "execution_count": 61,
   "metadata": {},
   "outputs": [],
   "source": [
    "a[0] = 1"
   ]
  },
  {
   "cell_type": "code",
   "execution_count": 65,
   "metadata": {},
   "outputs": [
    {
     "data": {
      "text/plain": [
       "([1, 0, 11], [1, 0, 11], [1, 0, 11])"
      ]
     },
     "execution_count": 65,
     "metadata": {},
     "output_type": "execute_result"
    }
   ],
   "source": [
    "a, b, c"
   ]
  },
  {
   "cell_type": "code",
   "execution_count": 66,
   "metadata": {},
   "outputs": [
    {
     "name": "stdout",
     "output_type": "stream",
     "text": [
      "[100, 1, 2] [0, 1, 2]\n"
     ]
    }
   ],
   "source": [
    "# Better to initialize like this\n",
    "a = [0, 1, 2]\n",
    "b = [0, 1, 2]\n",
    "\n",
    "a[0] = 100\n",
    "\n",
    "print(a, b)"
   ]
  },
  {
   "cell_type": "markdown",
   "metadata": {},
   "source": [
    "## 1.5 \\*Args, \\**Kwargs ## "
   ]
  },
  {
   "cell_type": "markdown",
   "metadata": {},
   "source": [
    "### \\*Args and \\**Kwargs allows to use arbitatry number of arguments in functions###\n",
    "* \\*Args stands for positional arguments, they are unpacked with unpacking operator * from the tuple (not muttable).\n",
    "* \\**Kwargs stand for keyword arguments, they are unpacked with *** operator from dictionary form.\n",
    "* Order of arguments is: \n",
    " 1. Standard arguments\n",
    " 2. Args\n",
    " 3. Kwargs"
   ]
  },
  {
   "cell_type": "code",
   "execution_count": 63,
   "metadata": {},
   "outputs": [
    {
     "data": {
      "text/plain": [
       "19"
      ]
     },
     "execution_count": 63,
     "metadata": {},
     "output_type": "execute_result"
    }
   ],
   "source": [
    "# Ex.args\n",
    "def sum(*args):\n",
    "    result = 0\n",
    "    for n in args:\n",
    "        result += n\n",
    "    return result\n",
    "\n",
    "sum(3,4,12,0)"
   ]
  },
  {
   "cell_type": "code",
   "execution_count": 85,
   "metadata": {},
   "outputs": [
    {
     "name": "stdout",
     "output_type": "stream",
     "text": [
      "salad\n",
      "banana\n",
      "lemon\n"
     ]
    }
   ],
   "source": [
    "# Ex.kwargs\n",
    "def print_words(**kwargs):\n",
    "    for word in kwargs.values():\n",
    "        print(word)\n",
    "        \n",
    "print_words(a='salad', b='banana', c='lemon')"
   ]
  },
  {
   "cell_type": "markdown",
   "metadata": {},
   "source": [
    "### Unpacking with the Asterisk operators  \\* and \\** ###"
   ]
  },
  {
   "cell_type": "code",
   "execution_count": 66,
   "metadata": {},
   "outputs": [
    {
     "ename": "TypeError",
     "evalue": "sum() missing 2 required positional arguments: 'b' and 'c'",
     "output_type": "error",
     "traceback": [
      "\u001b[1;31m---------------------------------------------------------------------------\u001b[0m",
      "\u001b[1;31mTypeError\u001b[0m                                 Traceback (most recent call last)",
      "\u001b[1;32m<ipython-input-66-8fcc16e3556f>\u001b[0m in \u001b[0;36m<module>\u001b[1;34m\u001b[0m\n\u001b[0;32m      3\u001b[0m \u001b[1;33m\u001b[0m\u001b[0m\n\u001b[0;32m      4\u001b[0m \u001b[0mmy_list\u001b[0m \u001b[1;33m=\u001b[0m \u001b[1;33m[\u001b[0m\u001b[1;36m1\u001b[0m\u001b[1;33m,\u001b[0m \u001b[1;36m2\u001b[0m\u001b[1;33m,\u001b[0m \u001b[1;36m3\u001b[0m\u001b[1;33m]\u001b[0m\u001b[1;33m\u001b[0m\u001b[1;33m\u001b[0m\u001b[0m\n\u001b[1;32m----> 5\u001b[1;33m \u001b[0msum\u001b[0m\u001b[1;33m(\u001b[0m\u001b[0mmy_list\u001b[0m\u001b[1;33m)\u001b[0m\u001b[1;33m\u001b[0m\u001b[1;33m\u001b[0m\u001b[0m\n\u001b[0m",
      "\u001b[1;31mTypeError\u001b[0m: sum() missing 2 required positional arguments: 'b' and 'c'"
     ]
    }
   ],
   "source": [
    "def sum(a, b, c):\n",
    "    return a + b + c\n",
    "\n",
    "my_list = [1, 2, 3]\n",
    "sum(my_list)"
   ]
  },
  {
   "cell_type": "code",
   "execution_count": 68,
   "metadata": {},
   "outputs": [
    {
     "data": {
      "text/plain": [
       "6"
      ]
     },
     "execution_count": 68,
     "metadata": {},
     "output_type": "execute_result"
    }
   ],
   "source": [
    "# Unpack elements of my_list first with * operator\n",
    "sum(*my_list)"
   ]
  },
  {
   "cell_type": "code",
   "execution_count": 70,
   "metadata": {},
   "outputs": [
    {
     "data": {
      "text/plain": [
       "49"
      ]
     },
     "execution_count": 70,
     "metadata": {},
     "output_type": "execute_result"
    }
   ],
   "source": [
    "def my_sum(*args):\n",
    "    result = 0\n",
    "    for i in args:\n",
    "        result += i\n",
    "    return result\n",
    "\n",
    "list1 = [1, 2, 18]\n",
    "list2 = [3, 20, 1]\n",
    "list3 = [0, 0, 0, 1, 2, 1]\n",
    "\n",
    "my_sum(*list1, *list2, *list3)"
   ]
  },
  {
   "cell_type": "code",
   "execution_count": 71,
   "metadata": {},
   "outputs": [
    {
     "data": {
      "text/plain": [
       "(2, [23, 0, 1, 4], 5)"
      ]
     },
     "execution_count": 71,
     "metadata": {},
     "output_type": "execute_result"
    }
   ],
   "source": [
    "my_list = [2, 23, 0, 1, 4, 5]\n",
    "a, *b, c = my_list\n",
    "a, b, c"
   ]
  },
  {
   "cell_type": "code",
   "execution_count": 74,
   "metadata": {},
   "outputs": [
    {
     "data": {
      "text/plain": [
       "[1, 2, 3, 4, 5, 6]"
      ]
     },
     "execution_count": 74,
     "metadata": {},
     "output_type": "execute_result"
    }
   ],
   "source": [
    "# Merge lists with *\n",
    "list1 = [1, 2, 3]\n",
    "list2 = [4, 5, 6]\n",
    "new_list = [*list1, *list2]\n",
    "new_list"
   ]
  },
  {
   "cell_type": "code",
   "execution_count": 81,
   "metadata": {},
   "outputs": [
    {
     "data": {
      "text/plain": [
       "{'a': 1, 'b': 2, 'c': 4, 'd': 500, 'e': 300}"
      ]
     },
     "execution_count": 81,
     "metadata": {},
     "output_type": "execute_result"
    }
   ],
   "source": [
    "# Merge disctionaries with **\n",
    "dict1 = {'a':1, 'b':2, 'c':4}\n",
    "dict2 = {'d':500, 'e':300}\n",
    "new_dict = {**dict1, **dict2}\n",
    "new_dict"
   ]
  },
  {
   "cell_type": "code",
   "execution_count": 97,
   "metadata": {},
   "outputs": [
    {
     "name": "stdout",
     "output_type": "stream",
     "text": [
      "Counter({'a': 2, 'b': 2})\n",
      "Counter({'a': 1, 'b': 1, 'c': 1, 'd': 1})\n",
      "Counter({'b': 2, 'a': 2})\n",
      "Counter({'d': 2, 'a': 2})\n"
     ]
    },
    {
     "data": {
      "text/plain": [
       "['aabb', 'bbaa']"
      ]
     },
     "execution_count": 97,
     "metadata": {},
     "output_type": "execute_result"
    }
   ],
   "source": [
    "from collections import Counter\n",
    "\n",
    "def anagrams(word, words):\n",
    "    anagrams = []\n",
    "    for w in words:\n",
    "        print(Counter(w))\n",
    "        if len(w) != len(word):\n",
    "            continue            \n",
    "        elif Counter(w) == Counter(word):\n",
    "            anagrams.append(w)\n",
    "    return anagrams\n",
    "\n",
    "anagrams('abba', ['aabb', 'abcd', 'bbaa', 'dada'])"
   ]
  },
  {
   "cell_type": "markdown",
   "metadata": {},
   "source": [
    "## 1.6 Generators ## \n",
    "* they are very memory efficient, because they don't store their content in memory\n",
    "* we have:\n",
    " * <b>generator functions</b> - special functions that returns a lazy iterator\n",
    " * <b>generator expressions</b> "
   ]
  },
  {
   "cell_type": "markdown",
   "metadata": {},
   "source": [
    "### Generator function ###\n"
   ]
  },
  {
   "cell_type": "code",
   "execution_count": 2,
   "metadata": {},
   "outputs": [
    {
     "data": {
      "text/plain": [
       "([1, 2, 3, 4, 5], <generator object gen_square_numbers at 0x0000027FB11D12C8>)"
      ]
     },
     "execution_count": 2,
     "metadata": {},
     "output_type": "execute_result"
    }
   ],
   "source": [
    "# \"Normal\" function\n",
    "def square_numbers(nums):\n",
    "    result = []\n",
    "    for num in nums:\n",
    "        result.append(num)\n",
    "    return result\n",
    "\n",
    "# Generator function\n",
    "def gen_square_numbers(nums):\n",
    "    for num in nums:\n",
    "        yield num\n",
    "        \n",
    "square_numbers([1,2,3,4,5]), gen_square_numbers([1,2,3,4,5])     "
   ]
  },
  {
   "cell_type": "markdown",
   "metadata": {},
   "source": [
    "### Generator expressions ###"
   ]
  },
  {
   "cell_type": "code",
   "execution_count": 16,
   "metadata": {},
   "outputs": [
    {
     "data": {
      "text/plain": [
       "([1, 2, 3, 4, 5], <generator object <genexpr> at 0x0000027FB1057948>)"
      ]
     },
     "execution_count": 16,
     "metadata": {},
     "output_type": "execute_result"
    }
   ],
   "source": [
    "my_list = [1,2,3,4,5]\n",
    "\n",
    "my_gen = (n**2 for n in my_list)\n",
    "\n",
    "my_list, my_gen"
   ]
  },
  {
   "cell_type": "code",
   "execution_count": 17,
   "metadata": {},
   "outputs": [
    {
     "name": "stdout",
     "output_type": "stream",
     "text": [
      "1\n",
      "4\n",
      "9\n",
      "16\n",
      "25\n"
     ]
    }
   ],
   "source": [
    "for num in my_gen:\n",
    "    print(num)"
   ]
  },
  {
   "cell_type": "code",
   "execution_count": 13,
   "metadata": {},
   "outputs": [
    {
     "data": {
      "text/plain": [
       "25"
      ]
     },
     "execution_count": 13,
     "metadata": {},
     "output_type": "execute_result"
    }
   ],
   "source": [
    "next(my_gen)"
   ]
  },
  {
   "cell_type": "code",
   "execution_count": 20,
   "metadata": {},
   "outputs": [],
   "source": [
    "# Write decorator func to measure time of executing normal function and generator function\n",
    "import time\n",
    "\n",
    "def my_decorator(my_func):\n",
    "    def wrapper(*args, **kwargs):\n",
    "        start = time.perf_counter()\n",
    "        value = my_func(*args, **kwargs)\n",
    "        stop = time.perf_counter()\n",
    "        run_time = stop - start\n",
    "        print('Runtime for {} function is {}.'.format(my_func.__name__, run_time))\n",
    "        return value\n",
    "    return wrapper"
   ]
  },
  {
   "cell_type": "code",
   "execution_count": 23,
   "metadata": {},
   "outputs": [
    {
     "name": "stdout",
     "output_type": "stream",
     "text": [
      "Runtime for people_list function is 0.003626700000040728.\n",
      "Runtime for people_gen function is 9.000000318337698e-07.\n"
     ]
    },
    {
     "data": {
      "text/plain": [
       "{'id': 0, 'name': 'tom', 'major': 'medicine'}"
      ]
     },
     "execution_count": 23,
     "metadata": {},
     "output_type": "execute_result"
    }
   ],
   "source": [
    "import random\n",
    "\n",
    "names = ['gina', 'taylor', 'mark', 'viola', 'isabelle', 'adrianna', 'tom', 'edmund', 'michael']\n",
    "majors = ['medicine', 'law', 'computer science', 'philosophy']\n",
    "\n",
    "@my_decorator\n",
    "def people_list(num_people):\n",
    "    result = []\n",
    "    for n in range(num_people):\n",
    "        person = {\n",
    "            'id':n,\n",
    "            'name': random.choice(names),\n",
    "            'major': random.choice(majors)\n",
    "        }\n",
    "        result.append(person)\n",
    "    return result\n",
    "\n",
    "@my_decorator\n",
    "def people_gen(num_people):\n",
    "    for n in range(num_people):\n",
    "        person = {\n",
    "            'id':n,\n",
    "            'name': random.choice(names),\n",
    "            'major': random.choice(majors)\n",
    "        }\n",
    "        yield person\n",
    "        \n",
    "my_list = people_list(1000)\n",
    "my_gen = people_gen(1000)\n",
    "\n",
    "next(my_gen)"
   ]
  },
  {
   "cell_type": "markdown",
   "metadata": {},
   "source": [
    "## 1.7 Context Manager ##\n",
    "* <big>used while working with files</big>"
   ]
  },
  {
   "cell_type": "markdown",
   "metadata": {},
   "source": [
    "### Method of writing to file without Context Manager###"
   ]
  },
  {
   "cell_type": "code",
   "execution_count": 1,
   "metadata": {},
   "outputs": [],
   "source": [
    "f = open('sample.txt', 'w')\n",
    "f.write('I just wrote the first line!')\n",
    "f.close()"
   ]
  },
  {
   "cell_type": "markdown",
   "metadata": {},
   "source": [
    "<big>This method is not good because:\n",
    " * We can forget about closing the file\n",
    " * If any error appears, file won't be closed properly </big>\n"
   ]
  },
  {
   "cell_type": "markdown",
   "metadata": {},
   "source": [
    "### Using Context Manager ###"
   ]
  },
  {
   "cell_type": "code",
   "execution_count": null,
   "metadata": {},
   "outputs": [],
   "source": [
    "with open('sample.txt', 'w') as f:\n",
    "    f.write('I wrote line using context manager!')"
   ]
  },
  {
   "cell_type": "markdown",
   "metadata": {},
   "source": [
    "### Creating Context Manager Class ###"
   ]
  },
  {
   "cell_type": "code",
   "execution_count": 6,
   "metadata": {},
   "outputs": [
    {
     "name": "stdout",
     "output_type": "stream",
     "text": [
      "True\n"
     ]
    }
   ],
   "source": [
    "class Open_File():\n",
    "    \n",
    "    def __init__(self, filename, mode):\n",
    "        self.filename = filename\n",
    "        self.mode = mode\n",
    "        \n",
    "    def __enter__(self):\n",
    "        self.file = open(self.filename, self.mode)\n",
    "        return self.file\n",
    "    \n",
    "    def __exit__(self, exc_type, exc_val, traceback):\n",
    "        self.file.close()\n",
    "    \n",
    "with Open_File('sample2.txt', 'w') as f:\n",
    "    f.write('Goodbye')\n",
    "\n",
    "print(f.closed)"
   ]
  },
  {
   "cell_type": "markdown",
   "metadata": {},
   "source": [
    "### Using contextmanager with generator function ###"
   ]
  },
  {
   "cell_type": "code",
   "execution_count": 2,
   "metadata": {},
   "outputs": [
    {
     "name": "stdout",
     "output_type": "stream",
     "text": [
      "True\n"
     ]
    }
   ],
   "source": [
    "from contextlib import contextmanager\n",
    "\n",
    "@contextmanager\n",
    "def open_file(file, mode):\n",
    "    try:\n",
    "        f = open(file, mode)\n",
    "        yield f \n",
    "    finally:\n",
    "        f.close()\n",
    "    \n",
    "with open_file('sample.txt', 'w') as f:\n",
    "    f.write('testing')\n",
    "    \n",
    "print(f.closed)"
   ]
  },
  {
   "cell_type": "code",
   "execution_count": 40,
   "metadata": {},
   "outputs": [
    {
     "name": "stdout",
     "output_type": "stream",
     "text": [
      "['sorting.py', 'sortowanie_przez_wstawianie.py']\n",
      "C:\\Users\\Kamila\\PycharmProjects\\Algorithms\n"
     ]
    }
   ],
   "source": [
    "# Print content of selected directory with context manager\n",
    "import os\n",
    "from contextlib import contextmanager\n",
    "\n",
    "@contextmanager\n",
    "def change_dir(destination):\n",
    "    try:\n",
    "        cwd = os.getcwd()\n",
    "        os.chdir(destination)\n",
    "        yield \n",
    "    finally:\n",
    "        os.chdir(cwd)\n",
    "        \n",
    "with change_dir('..\\Algorithms'):\n",
    "    print(os.listdir())\n",
    "    print(os.getcwd())\n"
   ]
  },
  {
   "cell_type": "markdown",
   "metadata": {},
   "source": [
    "## 1.8 Lambda expressions / anonimous functions ##"
   ]
  },
  {
   "cell_type": "code",
   "execution_count": 41,
   "metadata": {},
   "outputs": [
    {
     "data": {
      "text/plain": [
       "9"
      ]
     },
     "execution_count": 41,
     "metadata": {},
     "output_type": "execute_result"
    }
   ],
   "source": [
    "#Example 1\n",
    "square = lambda x: x**2\n",
    "square(3)"
   ]
  },
  {
   "cell_type": "code",
   "execution_count": 42,
   "metadata": {},
   "outputs": [
    {
     "data": {
      "text/plain": [
       "'Leon Wisniewski'"
      ]
     },
     "execution_count": 42,
     "metadata": {},
     "output_type": "execute_result"
    }
   ],
   "source": [
    "#Example 2 \n",
    "full_name = lambda fn, ln: fn.strip().title() + ' ' + ln.strip().title()\n",
    "full_name('   leon', ' Wisniewski')"
   ]
  },
  {
   "cell_type": "code",
   "execution_count": 45,
   "metadata": {},
   "outputs": [
    {
     "data": {
      "text/plain": [
       "['wioletta eva arhnold', 'michael thomas', 'Maria genowefa tupke', 'Leon Zega']"
      ]
     },
     "execution_count": 45,
     "metadata": {},
     "output_type": "execute_result"
    }
   ],
   "source": [
    "#Example 3 - sorting\n",
    "#Lambda function return key argument to sorting\n",
    "names = ['Leon Zega', 'Maria genowefa tupke', 'michael thomas', 'wioletta eva arhnold']\n",
    "names.sort(key= lambda name: name.split(' ')[-1].lower())\n",
    "names"
   ]
  },
  {
   "cell_type": "code",
   "execution_count": 48,
   "metadata": {},
   "outputs": [
    {
     "data": {
      "text/plain": [
       "35"
      ]
     },
     "execution_count": 48,
     "metadata": {},
     "output_type": "execute_result"
    }
   ],
   "source": [
    "# Example 4 - build a function to return lambda function\n",
    "\n",
    "def build_quadratic_function(a, b, c):\n",
    "    \"\"\"Returns the function f(x)= ax^2 + bx + c \"\"\"\n",
    "    return lambda x: a*x**2 + b*x + c\n",
    "\n",
    "f = build_quadratic_function(2,0,3)\n",
    "f(4)\n",
    "\n",
    "build_quadratic_function(2,0,3)(4)  # 2x^2 + 3 evaluated for 4"
   ]
  },
  {
   "cell_type": "markdown",
   "metadata": {},
   "source": [
    "## 1.9 Map function ## \n",
    "* data: a1, a2, a3, .., an (iterable)\n",
    "* function: f\n",
    "* map(f, data) -> returns map object (iterable): f(a1), f(a2), ..., f(an)\n",
    "* we can convert it to list: list(map(f, data))"
   ]
  },
  {
   "cell_type": "code",
   "execution_count": 2,
   "metadata": {},
   "outputs": [
    {
     "data": {
      "text/plain": [
       "[12.566370614359172, 78.53981633974483, 58.08804816487527, 158.36768566746147]"
      ]
     },
     "execution_count": 2,
     "metadata": {},
     "output_type": "execute_result"
    }
   ],
   "source": [
    "# Example 1: counting radious\n",
    "import math\n",
    "def area(r):\n",
    "    return math.pi * r** 2\n",
    "\n",
    "radi = [2, 5, 4.3, 7.1]\n",
    "areas = []\n",
    "for r in radi:\n",
    "    areas.append(area(r))\n",
    "\n",
    "areas"
   ]
  },
  {
   "cell_type": "code",
   "execution_count": 3,
   "metadata": {},
   "outputs": [
    {
     "data": {
      "text/plain": [
       "[12.566370614359172, 78.53981633974483, 58.08804816487527, 158.36768566746147]"
      ]
     },
     "execution_count": 3,
     "metadata": {},
     "output_type": "execute_result"
    }
   ],
   "source": [
    "# Example 1: using map function\n",
    "areas = list(map(area, radi))\n",
    "areas"
   ]
  },
  {
   "cell_type": "code",
   "execution_count": 5,
   "metadata": {},
   "outputs": [
    {
     "data": {
      "text/plain": [
       "[('Tokyo', 86.0),\n",
       " ('Ohio', 95.0),\n",
       " ('Berlin', 84.2),\n",
       " ('London', 71.6),\n",
       " ('New York', 82.4)]"
      ]
     },
     "execution_count": 5,
     "metadata": {},
     "output_type": "execute_result"
    }
   ],
   "source": [
    "# Example 2: Convert temperature in Celcius to Fahrenheit\n",
    "temps = [('Tokyo', 30), ('Ohio', 35), ('Berlin', 29), ('London', 22), ('New York', 28)]\n",
    "\n",
    "c_to_f = lambda data: (data[0], data[1] * 1.8 + 32)\n",
    "\n",
    "list(map(c_to_f, temps))"
   ]
  },
  {
   "cell_type": "markdown",
   "metadata": {},
   "source": [
    "## 1.10 Filter function ##"
   ]
  },
  {
   "cell_type": "code",
   "execution_count": 7,
   "metadata": {},
   "outputs": [
    {
     "data": {
      "text/plain": [
       "(3.9571428571428573, [5.0, 6, 8.1])"
      ]
     },
     "execution_count": 7,
     "metadata": {},
     "output_type": "execute_result"
    }
   ],
   "source": [
    "# Example\n",
    "import statistics\n",
    "data = [2.4, 3.1, 5.0, 6, 8.1, 2.0, 1.1]\n",
    "avg = statistics.mean(data)\n",
    "\n",
    "filter(lambda x: x> avg, data)\n",
    "avg, list(filter(lambda x: x> avg, data))"
   ]
  },
  {
   "cell_type": "code",
   "execution_count": 8,
   "metadata": {},
   "outputs": [
    {
     "data": {
      "text/plain": [
       "['Poland', 'France', 'Germany', 'UK', 'Norway']"
      ]
     },
     "execution_count": 8,
     "metadata": {},
     "output_type": "execute_result"
    }
   ],
   "source": [
    "# Remove missing data\n",
    "countries = ['Poland', '', '', 'France', 'Germany', 'UK', '', 'Norway', '', '']\n",
    "\n",
    "list(filter(None, countries))"
   ]
  },
  {
   "cell_type": "markdown",
   "metadata": {},
   "source": [
    "## 1.11 Reduce function ##\n",
    "* was moved to functools module\n",
    "* use only when necessary, because for loop is usually more readble"
   ]
  },
  {
   "cell_type": "code",
   "execution_count": 15,
   "metadata": {},
   "outputs": [
    {
     "data": {
      "text/plain": [
       "177855.2832"
      ]
     },
     "execution_count": 15,
     "metadata": {},
     "output_type": "execute_result"
    }
   ],
   "source": [
    "from functools import reduce\n",
    "\n",
    "#Multiply all numbers in a list\n",
    "numbers = [2, 3.2, 4, 2.3, 4, 1.2, 5, 7, 6.2, 2.9]\n",
    "multiplier = lambda x, y: x*y\n",
    "reduce(multiplier, numbers)"
   ]
  },
  {
   "cell_type": "code",
   "execution_count": 18,
   "metadata": {},
   "outputs": [
    {
     "data": {
      "text/plain": [
       "177855.2832"
      ]
     },
     "execution_count": 18,
     "metadata": {},
     "output_type": "execute_result"
    }
   ],
   "source": [
    "#The same example without reduce function\n",
    "\n",
    "product = 1\n",
    "for number in numbers:\n",
    "    product = product * number\n",
    "product"
   ]
  },
  {
   "cell_type": "code",
   "execution_count": null,
   "metadata": {},
   "outputs": [],
   "source": []
  }
 ],
 "metadata": {
  "kernelspec": {
   "display_name": "Python 3",
   "language": "python",
   "name": "python3"
  },
  "language_info": {
   "codemirror_mode": {
    "name": "ipython",
    "version": 3
   },
   "file_extension": ".py",
   "mimetype": "text/x-python",
   "name": "python",
   "nbconvert_exporter": "python",
   "pygments_lexer": "ipython3",
   "version": "3.7.4"
  }
 },
 "nbformat": 4,
 "nbformat_minor": 2
}
