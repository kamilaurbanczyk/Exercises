{
 "cells": [
  {
   "cell_type": "markdown",
   "metadata": {},
   "source": [
    "## 1.1 Python Slice object ##\n",
    "* slice_object = slice(start:stop:step)\n",
    "* start, step - optional\n",
    "* a[slice(start:stop:step)] == a[start:stop:step]"
   ]
  },
  {
   "cell_type": "code",
   "execution_count": 4,
   "metadata": {},
   "outputs": [
    {
     "data": {
      "text/plain": [
       "'oo'"
      ]
     },
     "execution_count": 4,
     "metadata": {},
     "output_type": "execute_result"
    }
   ],
   "source": [
    "my_string = 'Honolulu'\n",
    "slice_object = slice(1,4,2)\n",
    "my_string[slice_object]"
   ]
  },
  {
   "cell_type": "code",
   "execution_count": 87,
   "metadata": {},
   "outputs": [
    {
     "data": {
      "text/plain": [
       "[7, 6, 5, 4, 3, 2, 1]"
      ]
     },
     "execution_count": 87,
     "metadata": {},
     "output_type": "execute_result"
    }
   ],
   "source": [
    "my_list = [1,2,3,4,5,6,7]\n",
    "my_list[::-1]"
   ]
  },
  {
   "cell_type": "code",
   "execution_count": 88,
   "metadata": {},
   "outputs": [
    {
     "data": {
      "text/plain": [
       "[7, 6, 5]"
      ]
     },
     "execution_count": 88,
     "metadata": {},
     "output_type": "execute_result"
    }
   ],
   "source": [
    "my_list[:3:-1]"
   ]
  },
  {
   "cell_type": "code",
   "execution_count": 91,
   "metadata": {},
   "outputs": [
    {
     "data": {
      "text/plain": [
       "[4, 3]"
      ]
     },
     "execution_count": 91,
     "metadata": {},
     "output_type": "execute_result"
    }
   ],
   "source": [
    "my_list[3:1:-1]"
   ]
  },
  {
   "cell_type": "code",
   "execution_count": 9,
   "metadata": {},
   "outputs": [
    {
     "data": {
      "text/plain": [
       "[7, 6, 5, 4, 3]"
      ]
     },
     "execution_count": 9,
     "metadata": {},
     "output_type": "execute_result"
    }
   ],
   "source": [
    "my_list[6:1:-1]"
   ]
  },
  {
   "cell_type": "markdown",
   "metadata": {},
   "source": [
    "## 1.2 Python Comprehensions ##\n",
    "* Allow to create new sequences (such as lists, sets, dictionaries, generators) from existing sequences\n",
    "\n",
    "### List comprehensions ###\n",
    "* output_list = [output_exp for var in input_list if (var satisfies this condition)]"
   ]
  },
  {
   "cell_type": "code",
   "execution_count": 11,
   "metadata": {},
   "outputs": [
    {
     "data": {
      "text/plain": [
       "[1, 3, 5, 7, 9]"
      ]
     },
     "execution_count": 11,
     "metadata": {},
     "output_type": "execute_result"
    }
   ],
   "source": [
    "list1 = [0,1,2,3,4,5,6,7,8,9]\n",
    "\n",
    "new_list = [n for n in list1 if n%2 == 1]\n",
    "new_list"
   ]
  },
  {
   "cell_type": "code",
   "execution_count": 13,
   "metadata": {},
   "outputs": [
    {
     "name": "stdout",
     "output_type": "stream",
     "text": [
      "[0, 3, 6, 9, 12, 15, 18, 21, 24, 27, 30, 33, 36, 39, 42, 45, 48, 51, 54, 57, 60, 63, 66, 69, 72, 75, 78, 81, 84, 87, 90, 93, 96, 99]\n"
     ]
    }
   ],
   "source": [
    "nat_list3 = [n for n in range(100) if n%3 == 0]\n",
    "print(nat_list3)"
   ]
  },
  {
   "cell_type": "code",
   "execution_count": 15,
   "metadata": {},
   "outputs": [
    {
     "data": {
      "text/plain": [
       "[1, 4, 9, 16, 25, 36, 49, 64, 81]"
      ]
     },
     "execution_count": 15,
     "metadata": {},
     "output_type": "execute_result"
    }
   ],
   "source": [
    "squared = [n**2 for n in range(1,10)]\n",
    "squared"
   ]
  },
  {
   "cell_type": "markdown",
   "metadata": {},
   "source": [
    "### Dictionary Comprehensions ###\n",
    "* output_dict = {key:value for (key, value) in iterable if (key, value satisfy this condition)}"
   ]
  },
  {
   "cell_type": "code",
   "execution_count": 25,
   "metadata": {},
   "outputs": [
    {
     "data": {
      "text/plain": [
       "{1: 1, 3: 27, 5: 125, 9: 729, 11: 1331, 15: 3375}"
      ]
     },
     "execution_count": 25,
     "metadata": {},
     "output_type": "execute_result"
    }
   ],
   "source": [
    "# Create an output dictionary which contains only the odd numbers that are present in the input list as keys \n",
    "# and their cubes as values\n",
    "\n",
    "dict1 = {1, 2, 3, 5, 6, 8, 9, 11, 12, 14, 15}\n",
    "\n",
    "new_dict = {n: n**3 for n in dict1 if n % 2 == 1}\n",
    "new_dict"
   ]
  },
  {
   "cell_type": "code",
   "execution_count": 24,
   "metadata": {},
   "outputs": [
    {
     "data": {
      "text/plain": [
       "{'arizona': 'a', 'texas': 't', 'michigan': 'm', 'washington': 'w'}"
      ]
     },
     "execution_count": 24,
     "metadata": {},
     "output_type": "execute_result"
    }
   ],
   "source": [
    "# Given two lists containing the names of states and their corresponding capitals, \n",
    "# construct a dictionary which maps the states with their respective capitals.\n",
    "\n",
    "states = ['arizona', 'texas', 'michigan', 'washington']\n",
    "capitals = ['a', 't', 'm', 'w']\n",
    "\n",
    "my_dict = {x: y for (x, y) in zip(states, capitals)}\n",
    "my_dict"
   ]
  },
  {
   "cell_type": "markdown",
   "metadata": {},
   "source": [
    "### Set comprehensions ### \n",
    "* output_set = {output_exp for var in iterable if (var satisfies condition)}\n",
    "\n",
    "\n"
   ]
  },
  {
   "cell_type": "code",
   "execution_count": 1,
   "metadata": {},
   "outputs": [
    {
     "data": {
      "text/plain": [
       "{2, 6, 10, 12}"
      ]
     },
     "execution_count": 1,
     "metadata": {},
     "output_type": "execute_result"
    }
   ],
   "source": [
    "input_list = [1, 2, 2, 2, 3, 5, 6, 6, 7, 9, 10, 10, 12]\n",
    "output_set = {n for n in input_list if n % 2 == 0}\n",
    "output_set"
   ]
  },
  {
   "cell_type": "markdown",
   "metadata": {},
   "source": [
    "### Generator Comprehensions ###\n",
    "* output_gen = (var for var in iterable if (var satisfies a condition))"
   ]
  },
  {
   "cell_type": "code",
   "execution_count": 6,
   "metadata": {},
   "outputs": [
    {
     "data": {
      "text/plain": [
       "<generator object <genexpr> at 0x0000021D665620C8>"
      ]
     },
     "execution_count": 6,
     "metadata": {},
     "output_type": "execute_result"
    }
   ],
   "source": [
    "input_list = [1, 2, 2, 2, 3, 5, 6, 6, 7, 9, 10, 10, 12]\n",
    "output_gen = (n**2 for n in input_list if n % 2 ==1)\n",
    "output_gen"
   ]
  },
  {
   "cell_type": "markdown",
   "metadata": {},
   "source": [
    "### If, else with list comprehensions ###"
   ]
  },
  {
   "cell_type": "code",
   "execution_count": 13,
   "metadata": {},
   "outputs": [
    {
     "name": "stdout",
     "output_type": "stream",
     "text": [
      "['Even', 'Odd', 'Even', 'Odd', 'Even', 'Odd', 'Even', 'Odd', 'Even', 'Odd', 'Even', 'Odd', 'Even', 'Odd', 'Even', 'Odd', 'Even', 'Odd', 'Even', 'Odd']\n"
     ]
    }
   ],
   "source": [
    "output_list = ['Even' if n % 2 == 0 else 'Odd' for n in range(20)]\n",
    "print(output_list)"
   ]
  },
  {
   "cell_type": "markdown",
   "metadata": {},
   "source": [
    "### Exercises ###"
   ]
  },
  {
   "cell_type": "code",
   "execution_count": 5,
   "metadata": {},
   "outputs": [
    {
     "data": {
      "text/plain": [
       "['h', 'u', 'm', 'a', 'n']"
      ]
     },
     "execution_count": 5,
     "metadata": {},
     "output_type": "execute_result"
    }
   ],
   "source": [
    "# Separate the letters of the word 'human' and add the letters as items of a list \n",
    "letters_list = [letter for letter in 'human']\n",
    "letters_list"
   ]
  },
  {
   "cell_type": "code",
   "execution_count": 14,
   "metadata": {},
   "outputs": [
    {
     "data": {
      "text/plain": [
       "[[7, 3, 5], [18, 6, 0], [2, 11, 23]]"
      ]
     },
     "execution_count": 14,
     "metadata": {},
     "output_type": "execute_result"
    }
   ],
   "source": [
    "# Transpose of a Matrix using list comprehensions\n",
    "matrix = [[7, 18, 2], [3, 6, 11], [5, 0, 23]]\n",
    "\n",
    "transposed = [[row[i] for row in matrix] for i in range(3)]\n",
    "transposed"
   ]
  },
  {
   "cell_type": "code",
   "execution_count": 15,
   "metadata": {},
   "outputs": [
    {
     "data": {
      "text/plain": [
       "['bana234s']"
      ]
     },
     "execution_count": 15,
     "metadata": {},
     "output_type": "execute_result"
    }
   ],
   "source": [
    "# Multiple conditions\n",
    "words = ['hakuna45', '45sad', 'bana234s', 'flightto90']\n",
    "output_list = [string for string in words if string.startswith('b') and '45' not in string]\n",
    "output_list"
   ]
  },
  {
   "cell_type": "markdown",
   "metadata": {},
   "source": [
    "## 1.3 Python Decorators ##\n",
    "* decorator is a function that wraps another function \n",
    "* decorator is called with @decorator (pie sign)"
   ]
  },
  {
   "cell_type": "code",
   "execution_count": 29,
   "metadata": {},
   "outputs": [
    {
     "name": "stdout",
     "output_type": "stream",
     "text": [
      "I am doing something before calling a function\n",
      "Hello everyone! \n",
      "I am doing something after calling a function\n"
     ]
    }
   ],
   "source": [
    "# Ex. 1\n",
    "def my_decorator(my_func):\n",
    "    def wrapper():\n",
    "        print('I am doing something before calling a function')\n",
    "        my_func()\n",
    "        print('I am doing something after calling a function')\n",
    "    return wrapper()\n",
    "    \n",
    "def greeting():\n",
    "    print('Hello everyone! ')\n",
    "    \n",
    "my_decorator(greeting)"
   ]
  },
  {
   "cell_type": "markdown",
   "metadata": {},
   "source": [
    "<p><b><big>When calling decorator function we use refrence to decorated funtion, we are not calling it!</big></b></p>\n",
    "* <big>my_decorator(decorated_function) NOT my_decorator(decorated_function())</big>"
   ]
  },
  {
   "cell_type": "markdown",
   "metadata": {},
   "source": [
    "### Decorating with @ ###\n",
    "* Synctatic sugar: @my_decorator stands for:  greet=my_decorator(greet)"
   ]
  },
  {
   "cell_type": "code",
   "execution_count": 27,
   "metadata": {},
   "outputs": [
    {
     "name": "stdout",
     "output_type": "stream",
     "text": [
      "I am doing something before calling a function\n",
      "Hello everyone! \n",
      "I am doing something after calling a function\n"
     ]
    }
   ],
   "source": [
    "def my_decorator(my_func):\n",
    "    def wrapper():\n",
    "        print('I am doing something before calling a function')\n",
    "        my_func()\n",
    "        print('I am doing something after calling a function')\n",
    "    return wrapper \n",
    "\n",
    "@my_decorator\n",
    "def greeting():\n",
    "    print('Hello everyone! ')\n",
    "    \n",
    "greeting()"
   ]
  },
  {
   "cell_type": "markdown",
   "metadata": {},
   "source": [
    "### \\*args, \\**kwargs - Decorating functions with arguments ###"
   ]
  },
  {
   "cell_type": "code",
   "execution_count": 30,
   "metadata": {},
   "outputs": [
    {
     "ename": "TypeError",
     "evalue": "wrapper() takes 0 positional arguments but 1 was given",
     "output_type": "error",
     "traceback": [
      "\u001b[1;31m---------------------------------------------------------------------------\u001b[0m",
      "\u001b[1;31mTypeError\u001b[0m                                 Traceback (most recent call last)",
      "\u001b[1;32m<ipython-input-30-0c369051439a>\u001b[0m in \u001b[0;36m<module>\u001b[1;34m\u001b[0m\n\u001b[0;32m      3\u001b[0m     \u001b[1;32mreturn\u001b[0m \u001b[1;34m'Hello {}'\u001b[0m\u001b[1;33m.\u001b[0m\u001b[0mformat\u001b[0m\u001b[1;33m(\u001b[0m\u001b[0mname\u001b[0m\u001b[1;33m)\u001b[0m\u001b[1;33m\u001b[0m\u001b[1;33m\u001b[0m\u001b[0m\n\u001b[0;32m      4\u001b[0m \u001b[1;33m\u001b[0m\u001b[0m\n\u001b[1;32m----> 5\u001b[1;33m \u001b[0mgreet\u001b[0m\u001b[1;33m(\u001b[0m\u001b[1;34m'Asia'\u001b[0m\u001b[1;33m)\u001b[0m\u001b[1;33m\u001b[0m\u001b[1;33m\u001b[0m\u001b[0m\n\u001b[0m",
      "\u001b[1;31mTypeError\u001b[0m: wrapper() takes 0 positional arguments but 1 was given"
     ]
    }
   ],
   "source": [
    "# Decorator can't be used in the same way with function with some arguments, because the wrapper function takes no arguments.\n",
    "@my_decorator\n",
    "def greet(name):\n",
    "    return 'Hello {}'.format(name)\n",
    "\n",
    "greet('Asia')"
   ]
  },
  {
   "cell_type": "code",
   "execution_count": 53,
   "metadata": {},
   "outputs": [
    {
     "name": "stdout",
     "output_type": "stream",
     "text": [
      "I am doing something before calling a function\n",
      "Hello kamila\n",
      "I am doing something after calling a function\n"
     ]
    }
   ],
   "source": [
    "# Instead we can use *args, **kwargs - number of arguments passed to the function is not specified\n",
    "def my_decorator(my_func):\n",
    "    def wrapper(*args, **kwargs):\n",
    "        print('I am doing something before calling a function')\n",
    "        my_func(*args, **kwargs)\n",
    "        print('I am doing something after calling a function')\n",
    "    return wrapper \n",
    "\n",
    "@my_decorator\n",
    "def greet(name):\n",
    "    print('Hello {}'.format(name)) \n",
    "\n",
    "greet('Asia')"
   ]
  },
  {
   "cell_type": "markdown",
   "metadata": {},
   "source": [
    "### Returning value of decorated function ###"
   ]
  },
  {
   "cell_type": "code",
   "execution_count": 35,
   "metadata": {},
   "outputs": [
    {
     "name": "stdout",
     "output_type": "stream",
     "text": [
      "I am doing something before calling a function\n",
      "I am doing something after calling a function\n"
     ]
    }
   ],
   "source": [
    "def my_decorator(my_func):\n",
    "    def wrapper(*args, **kwargs):\n",
    "        print('I am doing something before calling a function')\n",
    "        my_func(*args, **kwargs)\n",
    "        print('I am doing something after calling a function')\n",
    "    return wrapper\n",
    "\n",
    "@my_decorator\n",
    "def greet(name):\n",
    "    return 'Hello {}'.format(name) \n",
    "\n",
    "my_string = greet('Asia')"
   ]
  },
  {
   "cell_type": "code",
   "execution_count": 35,
   "metadata": {},
   "outputs": [
    {
     "name": "stdout",
     "output_type": "stream",
     "text": [
      "None\n"
     ]
    }
   ],
   "source": [
    "print(my_string)"
   ]
  },
  {
   "cell_type": "code",
   "execution_count": 57,
   "metadata": {},
   "outputs": [
    {
     "name": "stdout",
     "output_type": "stream",
     "text": [
      "I am doing something before calling a function\n"
     ]
    },
    {
     "data": {
      "text/plain": [
       "'Hello asia'"
      ]
     },
     "execution_count": 57,
     "metadata": {},
     "output_type": "execute_result"
    }
   ],
   "source": [
    "# There is no value returned! That happens because wrapper function doeasn't return greet(), we have to change that\n",
    "\n",
    "def my_decorator(my_func):\n",
    "    def wrapper(*args, **kwargs):\n",
    "        print('I am doing something before calling a function')\n",
    "        my_func(*args, **kwargs)\n",
    "        return my_func(*args, **kwargs)\n",
    "    return wrapper \n",
    "\n",
    "@my_decorator\n",
    "def greet(name):\n",
    "    return 'Hello {}'.format(name) \n",
    "\n",
    "# Instead of using @ we can use this syntax:\n",
    "# dec = my_decorator(greet)\n",
    "# dec('asia')\n",
    "\n",
    "my_string = greet('Asia')\n",
    "my_string"
   ]
  },
  {
   "cell_type": "markdown",
   "metadata": {},
   "source": [
    "### Help() and .__name__ ###"
   ]
  },
  {
   "cell_type": "code",
   "execution_count": 45,
   "metadata": {},
   "outputs": [
    {
     "name": "stdout",
     "output_type": "stream",
     "text": [
      "Help on built-in function print in module builtins:\n",
      "\n",
      "print(...)\n",
      "    print(value, ..., sep=' ', end='\\n', file=sys.stdout, flush=False)\n",
      "    \n",
      "    Prints the values to a stream, or to sys.stdout by default.\n",
      "    Optional keyword arguments:\n",
      "    file:  a file-like object (stream); defaults to the current sys.stdout.\n",
      "    sep:   string inserted between values, default a space.\n",
      "    end:   string appended after the last value, default a newline.\n",
      "    flush: whether to forcibly flush the stream.\n",
      "\n"
     ]
    }
   ],
   "source": [
    "help(print)"
   ]
  },
  {
   "cell_type": "code",
   "execution_count": 46,
   "metadata": {},
   "outputs": [
    {
     "data": {
      "text/plain": [
       "'print'"
      ]
     },
     "execution_count": 46,
     "metadata": {},
     "output_type": "execute_result"
    }
   ],
   "source": [
    "print.__name__"
   ]
  },
  {
   "cell_type": "code",
   "execution_count": 47,
   "metadata": {},
   "outputs": [
    {
     "name": "stdout",
     "output_type": "stream",
     "text": [
      "Help on function wrapper in module __main__:\n",
      "\n",
      "wrapper(*args, **kwargs)\n",
      "\n"
     ]
    }
   ],
   "source": [
    "help(greet)"
   ]
  },
  {
   "cell_type": "code",
   "execution_count": 58,
   "metadata": {},
   "outputs": [
    {
     "data": {
      "text/plain": [
       "'greet'"
      ]
     },
     "execution_count": 58,
     "metadata": {},
     "output_type": "execute_result"
    }
   ],
   "source": [
    "greet.__name__"
   ]
  },
  {
   "cell_type": "markdown",
   "metadata": {},
   "source": [
    "### Usage of decorator functions ###\n",
    "* timing functions\n",
    "* debugging functions"
   ]
  },
  {
   "cell_type": "markdown",
   "metadata": {},
   "source": [
    "### Functools ###\n",
    "<p> After using decorator informations about function 'greet()' changed and it says that it's wrapper func. </p>\n",
    "<p> To avoid that kind of problem we should use @functools.wraps decorator, which will preserve information about the original function </p>"
   ]
  },
  {
   "cell_type": "code",
   "execution_count": 52,
   "metadata": {},
   "outputs": [
    {
     "data": {
      "text/plain": [
       "'greet'"
      ]
     },
     "execution_count": 52,
     "metadata": {},
     "output_type": "execute_result"
    }
   ],
   "source": [
    "import functools\n",
    "\n",
    "def my_decorator(my_func):\n",
    "    @functools.wraps(my_func)\n",
    "    def wrapper(*args, **kwargs):\n",
    "        my_func(*args, **kwargs)\n",
    "        return my_func(*args, **kwargs)\n",
    "    return wrapper \n",
    "\n",
    "@my_decorator\n",
    "def greet(name):\n",
    "    return 'Hello {}'.format(name) \n",
    "\n",
    "greet.__name__"
   ]
  },
  {
   "cell_type": "markdown",
   "metadata": {},
   "source": [
    "## 1.4 Multiple assignment in Python ## "
   ]
  },
  {
   "cell_type": "code",
   "execution_count": 54,
   "metadata": {},
   "outputs": [
    {
     "name": "stdout",
     "output_type": "stream",
     "text": [
      "100 200 300\n"
     ]
    }
   ],
   "source": [
    "a, b, c = 100, 200, 300\n",
    "print(a, b, c)"
   ]
  },
  {
   "cell_type": "code",
   "execution_count": 55,
   "metadata": {},
   "outputs": [
    {
     "name": "stdout",
     "output_type": "stream",
     "text": [
      "(10, 12, 3) <class 'tuple'>\n"
     ]
    }
   ],
   "source": [
    "a = 10, 12, 3\n",
    "print(a, type(a))"
   ]
  },
  {
   "cell_type": "code",
   "execution_count": 56,
   "metadata": {},
   "outputs": [
    {
     "ename": "ValueError",
     "evalue": "too many values to unpack (expected 2)",
     "output_type": "error",
     "traceback": [
      "\u001b[1;31m---------------------------------------------------------------------------\u001b[0m",
      "\u001b[1;31mValueError\u001b[0m                                Traceback (most recent call last)",
      "\u001b[1;32m<ipython-input-56-485285c4bf38>\u001b[0m in \u001b[0;36m<module>\u001b[1;34m\u001b[0m\n\u001b[1;32m----> 1\u001b[1;33m \u001b[0ma\u001b[0m\u001b[1;33m,\u001b[0m \u001b[0mb\u001b[0m \u001b[1;33m=\u001b[0m \u001b[1;36m20\u001b[0m\u001b[1;33m,\u001b[0m \u001b[1;36m30\u001b[0m\u001b[1;33m,\u001b[0m \u001b[1;36m40\u001b[0m\u001b[1;33m\u001b[0m\u001b[1;33m\u001b[0m\u001b[0m\n\u001b[0m",
      "\u001b[1;31mValueError\u001b[0m: too many values to unpack (expected 2)"
     ]
    }
   ],
   "source": [
    "a, b = 20, 30, 40"
   ]
  },
  {
   "cell_type": "code",
   "execution_count": 59,
   "metadata": {},
   "outputs": [
    {
     "name": "stdout",
     "output_type": "stream",
     "text": [
      "20 [30, 40] <class 'list'>\n"
     ]
    }
   ],
   "source": [
    "# * - assign rest as a list to variable 'b'\n",
    "a , *b = 20, 30, 40\n",
    "print(a, b, type(b))"
   ]
  },
  {
   "cell_type": "code",
   "execution_count": 60,
   "metadata": {},
   "outputs": [
    {
     "name": "stdout",
     "output_type": "stream",
     "text": [
      "True\n"
     ]
    }
   ],
   "source": [
    "# Be very careful with '=' assignment. When creating varaibles like this, they are one object.\n",
    "a = b = c = [23, 0, 11]\n",
    "\n",
    "print(a is b)"
   ]
  },
  {
   "cell_type": "code",
   "execution_count": 61,
   "metadata": {},
   "outputs": [],
   "source": [
    "a[0] = 1"
   ]
  },
  {
   "cell_type": "code",
   "execution_count": 65,
   "metadata": {},
   "outputs": [
    {
     "data": {
      "text/plain": [
       "([1, 0, 11], [1, 0, 11], [1, 0, 11])"
      ]
     },
     "execution_count": 65,
     "metadata": {},
     "output_type": "execute_result"
    }
   ],
   "source": [
    "a, b, c"
   ]
  },
  {
   "cell_type": "code",
   "execution_count": 66,
   "metadata": {},
   "outputs": [
    {
     "name": "stdout",
     "output_type": "stream",
     "text": [
      "[100, 1, 2] [0, 1, 2]\n"
     ]
    }
   ],
   "source": [
    "# Better to initialize like this\n",
    "a = [0, 1, 2]\n",
    "b = [0, 1, 2]\n",
    "\n",
    "a[0] = 100\n",
    "\n",
    "print(a, b)"
   ]
  },
  {
   "cell_type": "markdown",
   "metadata": {},
   "source": [
    "## 1.5 \\*Args, \\**Kwargs ## "
   ]
  },
  {
   "cell_type": "markdown",
   "metadata": {},
   "source": [
    "### \\*Args and \\**Kwargs allows to use arbitatry number of arguments in functions###\n",
    "* \\*Args stands for positional arguments, they are unpacked with unpacking operator * from the tuple (not muttable).\n",
    "* \\**Kwargs stand for keyword arguments, they are unpacked with *** operator from dictionary form.\n",
    "* Order of arguments is: \n",
    " 1. Standard arguments\n",
    " 2. Args\n",
    " 3. Kwargs"
   ]
  },
  {
   "cell_type": "code",
   "execution_count": 63,
   "metadata": {},
   "outputs": [
    {
     "data": {
      "text/plain": [
       "19"
      ]
     },
     "execution_count": 63,
     "metadata": {},
     "output_type": "execute_result"
    }
   ],
   "source": [
    "# Ex.args\n",
    "def sum(*args):\n",
    "    result = 0\n",
    "    for n in args:\n",
    "        result += n\n",
    "    return result\n",
    "\n",
    "sum(3,4,12,0)"
   ]
  },
  {
   "cell_type": "code",
   "execution_count": 85,
   "metadata": {},
   "outputs": [
    {
     "name": "stdout",
     "output_type": "stream",
     "text": [
      "salad\n",
      "banana\n",
      "lemon\n"
     ]
    }
   ],
   "source": [
    "# Ex.kwargs\n",
    "def print_words(**kwargs):\n",
    "    for word in kwargs.values():\n",
    "        print(word)\n",
    "        \n",
    "print_words(a='salad', b='banana', c='lemon')"
   ]
  },
  {
   "cell_type": "markdown",
   "metadata": {},
   "source": [
    "### Unpacking with the Asterisk operators  \\* and \\** ###"
   ]
  },
  {
   "cell_type": "code",
   "execution_count": 66,
   "metadata": {},
   "outputs": [
    {
     "ename": "TypeError",
     "evalue": "sum() missing 2 required positional arguments: 'b' and 'c'",
     "output_type": "error",
     "traceback": [
      "\u001b[1;31m---------------------------------------------------------------------------\u001b[0m",
      "\u001b[1;31mTypeError\u001b[0m                                 Traceback (most recent call last)",
      "\u001b[1;32m<ipython-input-66-8fcc16e3556f>\u001b[0m in \u001b[0;36m<module>\u001b[1;34m\u001b[0m\n\u001b[0;32m      3\u001b[0m \u001b[1;33m\u001b[0m\u001b[0m\n\u001b[0;32m      4\u001b[0m \u001b[0mmy_list\u001b[0m \u001b[1;33m=\u001b[0m \u001b[1;33m[\u001b[0m\u001b[1;36m1\u001b[0m\u001b[1;33m,\u001b[0m \u001b[1;36m2\u001b[0m\u001b[1;33m,\u001b[0m \u001b[1;36m3\u001b[0m\u001b[1;33m]\u001b[0m\u001b[1;33m\u001b[0m\u001b[1;33m\u001b[0m\u001b[0m\n\u001b[1;32m----> 5\u001b[1;33m \u001b[0msum\u001b[0m\u001b[1;33m(\u001b[0m\u001b[0mmy_list\u001b[0m\u001b[1;33m)\u001b[0m\u001b[1;33m\u001b[0m\u001b[1;33m\u001b[0m\u001b[0m\n\u001b[0m",
      "\u001b[1;31mTypeError\u001b[0m: sum() missing 2 required positional arguments: 'b' and 'c'"
     ]
    }
   ],
   "source": [
    "def sum(a, b, c):\n",
    "    return a + b + c\n",
    "\n",
    "my_list = [1, 2, 3]\n",
    "sum(my_list)"
   ]
  },
  {
   "cell_type": "code",
   "execution_count": 68,
   "metadata": {},
   "outputs": [
    {
     "data": {
      "text/plain": [
       "6"
      ]
     },
     "execution_count": 68,
     "metadata": {},
     "output_type": "execute_result"
    }
   ],
   "source": [
    "# Unpack elements of my_list first with * operator\n",
    "sum(*my_list)"
   ]
  },
  {
   "cell_type": "code",
   "execution_count": 70,
   "metadata": {},
   "outputs": [
    {
     "data": {
      "text/plain": [
       "49"
      ]
     },
     "execution_count": 70,
     "metadata": {},
     "output_type": "execute_result"
    }
   ],
   "source": [
    "def my_sum(*args):\n",
    "    result = 0\n",
    "    for i in args:\n",
    "        result += i\n",
    "    return result\n",
    "\n",
    "list1 = [1, 2, 18]\n",
    "list2 = [3, 20, 1]\n",
    "list3 = [0, 0, 0, 1, 2, 1]\n",
    "\n",
    "my_sum(*list1, *list2, *list3)"
   ]
  },
  {
   "cell_type": "code",
   "execution_count": 71,
   "metadata": {},
   "outputs": [
    {
     "data": {
      "text/plain": [
       "(2, [23, 0, 1, 4], 5)"
      ]
     },
     "execution_count": 71,
     "metadata": {},
     "output_type": "execute_result"
    }
   ],
   "source": [
    "my_list = [2, 23, 0, 1, 4, 5]\n",
    "a, *b, c = my_list\n",
    "a, b, c"
   ]
  },
  {
   "cell_type": "code",
   "execution_count": 74,
   "metadata": {},
   "outputs": [
    {
     "data": {
      "text/plain": [
       "[1, 2, 3, 4, 5, 6]"
      ]
     },
     "execution_count": 74,
     "metadata": {},
     "output_type": "execute_result"
    }
   ],
   "source": [
    "# Merge lists with *\n",
    "list1 = [1, 2, 3]\n",
    "list2 = [4, 5, 6]\n",
    "new_list = [*list1, *list2]\n",
    "new_list"
   ]
  },
  {
   "cell_type": "code",
   "execution_count": 81,
   "metadata": {},
   "outputs": [
    {
     "data": {
      "text/plain": [
       "{'a': 1, 'b': 2, 'c': 4, 'd': 500, 'e': 300}"
      ]
     },
     "execution_count": 81,
     "metadata": {},
     "output_type": "execute_result"
    }
   ],
   "source": [
    "# Merge disctionaries with **\n",
    "dict1 = {'a':1, 'b':2, 'c':4}\n",
    "dict2 = {'d':500, 'e':300}\n",
    "new_dict = {**dict1, **dict2}\n",
    "new_dict"
   ]
  },
  {
   "cell_type": "code",
   "execution_count": 97,
   "metadata": {},
   "outputs": [
    {
     "name": "stdout",
     "output_type": "stream",
     "text": [
      "Counter({'a': 2, 'b': 2})\n",
      "Counter({'a': 1, 'b': 1, 'c': 1, 'd': 1})\n",
      "Counter({'b': 2, 'a': 2})\n",
      "Counter({'d': 2, 'a': 2})\n"
     ]
    },
    {
     "data": {
      "text/plain": [
       "['aabb', 'bbaa']"
      ]
     },
     "execution_count": 97,
     "metadata": {},
     "output_type": "execute_result"
    }
   ],
   "source": [
    "from collections import Counter\n",
    "\n",
    "def anagrams(word, words):\n",
    "    anagrams = []\n",
    "    for w in words:\n",
    "        print(Counter(w))\n",
    "        if len(w) != len(word):\n",
    "            continue            \n",
    "        elif Counter(w) == Counter(word):\n",
    "            anagrams.append(w)\n",
    "    return anagrams\n",
    "\n",
    "anagrams('abba', ['aabb', 'abcd', 'bbaa', 'dada'])"
   ]
  },
  {
   "cell_type": "markdown",
   "metadata": {},
   "source": [
    "## 1.6 Generators ## \n",
    "* they are very memory efficient, because they don't store their content in memory\n",
    "* we have:\n",
    " * <b>generator functions</b> - special functions that returns a lazy iterator\n",
    " * <b>generator expressions</b> "
   ]
  },
  {
   "cell_type": "markdown",
   "metadata": {},
   "source": [
    "### Generator function ###\n"
   ]
  },
  {
   "cell_type": "code",
   "execution_count": 2,
   "metadata": {},
   "outputs": [
    {
     "data": {
      "text/plain": [
       "([1, 2, 3, 4, 5], <generator object gen_square_numbers at 0x0000027FB11D12C8>)"
      ]
     },
     "execution_count": 2,
     "metadata": {},
     "output_type": "execute_result"
    }
   ],
   "source": [
    "# \"Normal\" function\n",
    "def square_numbers(nums):\n",
    "    result = []\n",
    "    for num in nums:\n",
    "        result.append(num)\n",
    "    return result\n",
    "\n",
    "# Generator function\n",
    "def gen_square_numbers(nums):\n",
    "    for num in nums:\n",
    "        yield num\n",
    "        \n",
    "square_numbers([1,2,3,4,5]), gen_square_numbers([1,2,3,4,5])     "
   ]
  },
  {
   "cell_type": "markdown",
   "metadata": {},
   "source": [
    "### Generator expressions ###"
   ]
  },
  {
   "cell_type": "code",
   "execution_count": 16,
   "metadata": {},
   "outputs": [
    {
     "data": {
      "text/plain": [
       "([1, 2, 3, 4, 5], <generator object <genexpr> at 0x0000027FB1057948>)"
      ]
     },
     "execution_count": 16,
     "metadata": {},
     "output_type": "execute_result"
    }
   ],
   "source": [
    "my_list = [1,2,3,4,5]\n",
    "\n",
    "my_gen = (n**2 for n in my_list)\n",
    "\n",
    "my_list, my_gen"
   ]
  },
  {
   "cell_type": "code",
   "execution_count": 17,
   "metadata": {},
   "outputs": [
    {
     "name": "stdout",
     "output_type": "stream",
     "text": [
      "1\n",
      "4\n",
      "9\n",
      "16\n",
      "25\n"
     ]
    }
   ],
   "source": [
    "for num in my_gen:\n",
    "    print(num)"
   ]
  },
  {
   "cell_type": "code",
   "execution_count": 13,
   "metadata": {},
   "outputs": [
    {
     "data": {
      "text/plain": [
       "25"
      ]
     },
     "execution_count": 13,
     "metadata": {},
     "output_type": "execute_result"
    }
   ],
   "source": [
    "next(my_gen)"
   ]
  },
  {
   "cell_type": "code",
   "execution_count": 18,
   "metadata": {},
   "outputs": [],
   "source": [
    "# Write decorator func to measure time of executing normal function and generator function\n",
    "import time\n",
    "\n",
    "def my_decorator(my_func):\n",
    "    def wrapper(*args, **kwargs):\n",
    "        start = time.perf_counter()\n",
    "        value = my_func(*args, **kwargs)\n",
    "        stop = time.perf_counter()\n",
    "        run_time = stop - start\n",
    "        print('Runtime for {} function is {}.'.format(my_func.__name__, run_time))\n",
    "        return value\n",
    "    return wrapper"
   ]
  },
  {
   "cell_type": "code",
   "execution_count": 69,
   "metadata": {},
   "outputs": [
    {
     "name": "stdout",
     "output_type": "stream",
     "text": [
      "Runtime for people_list function is 0.006652800000665593.\n",
      "Runtime for people_gen function is 1.99999976757681e-06.\n",
      "{'id': 0, 'name': 'michael', 'major': 'computer science'}\n",
      "{'id': 1, 'name': 'michael', 'major': 'law'}\n",
      "{'id': 2, 'name': 'michael', 'major': 'medicine'}\n",
      "{'id': 3, 'name': 'adrianna', 'major': 'philosophy'}\n",
      "{'id': 4, 'name': 'gina', 'major': 'medicine'}\n",
      "{'id': 5, 'name': 'tom', 'major': 'medicine'}\n",
      "{'id': 6, 'name': 'tom', 'major': 'medicine'}\n",
      "{'id': 7, 'name': 'mark', 'major': 'philosophy'}\n",
      "{'id': 8, 'name': 'mark', 'major': 'medicine'}\n",
      "{'id': 9, 'name': 'taylor', 'major': 'computer science'}\n",
      "{'id': 10, 'name': 'michael', 'major': 'philosophy'}\n",
      "{'id': 11, 'name': 'tom', 'major': 'medicine'}\n",
      "{'id': 12, 'name': 'michael', 'major': 'law'}\n",
      "{'id': 13, 'name': 'adrianna', 'major': 'medicine'}\n",
      "{'id': 14, 'name': 'isabelle', 'major': 'computer science'}\n",
      "{'id': 15, 'name': 'taylor', 'major': 'law'}\n",
      "{'id': 16, 'name': 'adrianna', 'major': 'medicine'}\n",
      "{'id': 17, 'name': 'tom', 'major': 'medicine'}\n",
      "{'id': 18, 'name': 'edmund', 'major': 'philosophy'}\n",
      "{'id': 19, 'name': 'michael', 'major': 'computer science'}\n",
      "{'id': 20, 'name': 'gina', 'major': 'medicine'}\n",
      "{'id': 21, 'name': 'viola', 'major': 'medicine'}\n",
      "{'id': 22, 'name': 'mark', 'major': 'computer science'}\n",
      "{'id': 23, 'name': 'mark', 'major': 'law'}\n",
      "{'id': 24, 'name': 'adrianna', 'major': 'computer science'}\n",
      "{'id': 25, 'name': 'adrianna', 'major': 'law'}\n",
      "{'id': 26, 'name': 'gina', 'major': 'medicine'}\n",
      "{'id': 27, 'name': 'viola', 'major': 'medicine'}\n",
      "{'id': 28, 'name': 'adrianna', 'major': 'medicine'}\n",
      "{'id': 29, 'name': 'gina', 'major': 'medicine'}\n",
      "{'id': 30, 'name': 'isabelle', 'major': 'philosophy'}\n",
      "{'id': 31, 'name': 'edmund', 'major': 'philosophy'}\n",
      "{'id': 32, 'name': 'adrianna', 'major': 'computer science'}\n",
      "{'id': 33, 'name': 'tom', 'major': 'law'}\n",
      "{'id': 34, 'name': 'edmund', 'major': 'philosophy'}\n",
      "{'id': 35, 'name': 'tom', 'major': 'philosophy'}\n",
      "{'id': 36, 'name': 'taylor', 'major': 'computer science'}\n",
      "{'id': 37, 'name': 'michael', 'major': 'law'}\n",
      "{'id': 38, 'name': 'viola', 'major': 'philosophy'}\n",
      "{'id': 39, 'name': 'mark', 'major': 'medicine'}\n",
      "{'id': 40, 'name': 'tom', 'major': 'law'}\n",
      "{'id': 41, 'name': 'isabelle', 'major': 'medicine'}\n",
      "{'id': 42, 'name': 'adrianna', 'major': 'medicine'}\n",
      "{'id': 43, 'name': 'adrianna', 'major': 'medicine'}\n",
      "{'id': 44, 'name': 'adrianna', 'major': 'philosophy'}\n",
      "{'id': 45, 'name': 'adrianna', 'major': 'philosophy'}\n",
      "{'id': 46, 'name': 'isabelle', 'major': 'computer science'}\n",
      "{'id': 47, 'name': 'taylor', 'major': 'law'}\n",
      "{'id': 48, 'name': 'tom', 'major': 'philosophy'}\n",
      "{'id': 49, 'name': 'isabelle', 'major': 'law'}\n",
      "{'id': 50, 'name': 'isabelle', 'major': 'computer science'}\n",
      "{'id': 51, 'name': 'taylor', 'major': 'computer science'}\n",
      "{'id': 52, 'name': 'mark', 'major': 'medicine'}\n",
      "{'id': 53, 'name': 'edmund', 'major': 'computer science'}\n",
      "{'id': 54, 'name': 'gina', 'major': 'law'}\n",
      "{'id': 55, 'name': 'edmund', 'major': 'medicine'}\n",
      "{'id': 56, 'name': 'mark', 'major': 'law'}\n",
      "{'id': 57, 'name': 'taylor', 'major': 'philosophy'}\n",
      "{'id': 58, 'name': 'adrianna', 'major': 'philosophy'}\n",
      "{'id': 59, 'name': 'isabelle', 'major': 'law'}\n",
      "{'id': 60, 'name': 'gina', 'major': 'law'}\n",
      "{'id': 61, 'name': 'isabelle', 'major': 'medicine'}\n",
      "{'id': 62, 'name': 'edmund', 'major': 'computer science'}\n",
      "{'id': 63, 'name': 'tom', 'major': 'philosophy'}\n",
      "{'id': 64, 'name': 'taylor', 'major': 'computer science'}\n",
      "{'id': 65, 'name': 'viola', 'major': 'computer science'}\n",
      "{'id': 66, 'name': 'adrianna', 'major': 'medicine'}\n",
      "{'id': 67, 'name': 'tom', 'major': 'medicine'}\n",
      "{'id': 68, 'name': 'taylor', 'major': 'law'}\n",
      "{'id': 69, 'name': 'gina', 'major': 'philosophy'}\n",
      "{'id': 70, 'name': 'isabelle', 'major': 'medicine'}\n",
      "{'id': 71, 'name': 'gina', 'major': 'computer science'}\n",
      "{'id': 72, 'name': 'tom', 'major': 'law'}\n",
      "{'id': 73, 'name': 'gina', 'major': 'computer science'}\n",
      "{'id': 74, 'name': 'taylor', 'major': 'philosophy'}\n",
      "{'id': 75, 'name': 'taylor', 'major': 'law'}\n",
      "{'id': 76, 'name': 'mark', 'major': 'medicine'}\n",
      "{'id': 77, 'name': 'mark', 'major': 'computer science'}\n",
      "{'id': 78, 'name': 'gina', 'major': 'philosophy'}\n",
      "{'id': 79, 'name': 'gina', 'major': 'law'}\n",
      "{'id': 80, 'name': 'gina', 'major': 'medicine'}\n",
      "{'id': 81, 'name': 'isabelle', 'major': 'law'}\n",
      "{'id': 82, 'name': 'adrianna', 'major': 'computer science'}\n",
      "{'id': 83, 'name': 'viola', 'major': 'philosophy'}\n",
      "{'id': 84, 'name': 'michael', 'major': 'law'}\n",
      "{'id': 85, 'name': 'gina', 'major': 'computer science'}\n",
      "{'id': 86, 'name': 'michael', 'major': 'law'}\n",
      "{'id': 87, 'name': 'isabelle', 'major': 'medicine'}\n",
      "{'id': 88, 'name': 'tom', 'major': 'law'}\n",
      "{'id': 89, 'name': 'gina', 'major': 'philosophy'}\n",
      "{'id': 90, 'name': 'tom', 'major': 'philosophy'}\n",
      "{'id': 91, 'name': 'isabelle', 'major': 'computer science'}\n",
      "{'id': 92, 'name': 'isabelle', 'major': 'law'}\n",
      "{'id': 93, 'name': 'tom', 'major': 'computer science'}\n",
      "{'id': 94, 'name': 'adrianna', 'major': 'law'}\n",
      "{'id': 95, 'name': 'tom', 'major': 'law'}\n",
      "{'id': 96, 'name': 'viola', 'major': 'law'}\n",
      "{'id': 97, 'name': 'edmund', 'major': 'law'}\n",
      "{'id': 98, 'name': 'adrianna', 'major': 'medicine'}\n",
      "{'id': 99, 'name': 'gina', 'major': 'computer science'}\n",
      "{'id': 100, 'name': 'tom', 'major': 'law'}\n",
      "{'id': 101, 'name': 'viola', 'major': 'computer science'}\n",
      "{'id': 102, 'name': 'tom', 'major': 'medicine'}\n",
      "{'id': 103, 'name': 'mark', 'major': 'law'}\n",
      "{'id': 104, 'name': 'adrianna', 'major': 'law'}\n",
      "{'id': 105, 'name': 'michael', 'major': 'medicine'}\n",
      "{'id': 106, 'name': 'tom', 'major': 'law'}\n",
      "{'id': 107, 'name': 'michael', 'major': 'computer science'}\n",
      "{'id': 108, 'name': 'isabelle', 'major': 'law'}\n",
      "{'id': 109, 'name': 'mark', 'major': 'medicine'}\n",
      "{'id': 110, 'name': 'taylor', 'major': 'law'}\n",
      "{'id': 111, 'name': 'edmund', 'major': 'computer science'}\n",
      "{'id': 112, 'name': 'tom', 'major': 'law'}\n",
      "{'id': 113, 'name': 'mark', 'major': 'philosophy'}\n",
      "{'id': 114, 'name': 'mark', 'major': 'philosophy'}\n",
      "{'id': 115, 'name': 'adrianna', 'major': 'philosophy'}\n",
      "{'id': 116, 'name': 'tom', 'major': 'computer science'}\n",
      "{'id': 117, 'name': 'adrianna', 'major': 'philosophy'}\n",
      "{'id': 118, 'name': 'edmund', 'major': 'computer science'}\n",
      "{'id': 119, 'name': 'gina', 'major': 'medicine'}\n",
      "{'id': 120, 'name': 'gina', 'major': 'medicine'}\n",
      "{'id': 121, 'name': 'viola', 'major': 'law'}\n",
      "{'id': 122, 'name': 'gina', 'major': 'medicine'}\n",
      "{'id': 123, 'name': 'gina', 'major': 'philosophy'}\n",
      "{'id': 124, 'name': 'viola', 'major': 'philosophy'}\n",
      "{'id': 125, 'name': 'gina', 'major': 'law'}\n",
      "{'id': 126, 'name': 'adrianna', 'major': 'philosophy'}\n",
      "{'id': 127, 'name': 'viola', 'major': 'medicine'}\n",
      "{'id': 128, 'name': 'michael', 'major': 'law'}\n",
      "{'id': 129, 'name': 'viola', 'major': 'law'}\n",
      "{'id': 130, 'name': 'edmund', 'major': 'computer science'}\n",
      "{'id': 131, 'name': 'adrianna', 'major': 'philosophy'}\n",
      "{'id': 132, 'name': 'viola', 'major': 'philosophy'}\n",
      "{'id': 133, 'name': 'gina', 'major': 'law'}\n",
      "{'id': 134, 'name': 'adrianna', 'major': 'philosophy'}\n",
      "{'id': 135, 'name': 'viola', 'major': 'computer science'}\n",
      "{'id': 136, 'name': 'viola', 'major': 'medicine'}\n",
      "{'id': 137, 'name': 'taylor', 'major': 'law'}\n",
      "{'id': 138, 'name': 'isabelle', 'major': 'law'}\n",
      "{'id': 139, 'name': 'michael', 'major': 'law'}\n",
      "{'id': 140, 'name': 'michael', 'major': 'computer science'}\n",
      "{'id': 141, 'name': 'isabelle', 'major': 'computer science'}\n",
      "{'id': 142, 'name': 'adrianna', 'major': 'medicine'}\n",
      "{'id': 143, 'name': 'tom', 'major': 'law'}\n",
      "{'id': 144, 'name': 'tom', 'major': 'computer science'}\n",
      "{'id': 145, 'name': 'tom', 'major': 'medicine'}\n",
      "{'id': 146, 'name': 'mark', 'major': 'philosophy'}\n",
      "{'id': 147, 'name': 'michael', 'major': 'law'}\n",
      "{'id': 148, 'name': 'tom', 'major': 'computer science'}\n",
      "{'id': 149, 'name': 'michael', 'major': 'computer science'}\n",
      "{'id': 150, 'name': 'adrianna', 'major': 'medicine'}\n",
      "{'id': 151, 'name': 'viola', 'major': 'law'}\n",
      "{'id': 152, 'name': 'edmund', 'major': 'philosophy'}\n",
      "{'id': 153, 'name': 'tom', 'major': 'medicine'}\n",
      "{'id': 154, 'name': 'mark', 'major': 'computer science'}\n",
      "{'id': 155, 'name': 'tom', 'major': 'philosophy'}\n",
      "{'id': 156, 'name': 'viola', 'major': 'law'}\n",
      "{'id': 157, 'name': 'michael', 'major': 'philosophy'}\n",
      "{'id': 158, 'name': 'gina', 'major': 'law'}\n",
      "{'id': 159, 'name': 'viola', 'major': 'medicine'}\n",
      "{'id': 160, 'name': 'taylor', 'major': 'law'}\n",
      "{'id': 161, 'name': 'edmund', 'major': 'philosophy'}\n",
      "{'id': 162, 'name': 'edmund', 'major': 'computer science'}\n",
      "{'id': 163, 'name': 'tom', 'major': 'law'}\n",
      "{'id': 164, 'name': 'viola', 'major': 'computer science'}\n",
      "{'id': 165, 'name': 'mark', 'major': 'medicine'}\n",
      "{'id': 166, 'name': 'taylor', 'major': 'medicine'}\n",
      "{'id': 167, 'name': 'mark', 'major': 'medicine'}\n",
      "{'id': 168, 'name': 'viola', 'major': 'philosophy'}\n",
      "{'id': 169, 'name': 'mark', 'major': 'computer science'}\n",
      "{'id': 170, 'name': 'mark', 'major': 'law'}\n",
      "{'id': 171, 'name': 'tom', 'major': 'law'}\n",
      "{'id': 172, 'name': 'michael', 'major': 'law'}\n",
      "{'id': 173, 'name': 'edmund', 'major': 'philosophy'}\n",
      "{'id': 174, 'name': 'viola', 'major': 'philosophy'}\n",
      "{'id': 175, 'name': 'tom', 'major': 'medicine'}\n",
      "{'id': 176, 'name': 'tom', 'major': 'law'}\n",
      "{'id': 177, 'name': 'edmund', 'major': 'medicine'}\n",
      "{'id': 178, 'name': 'gina', 'major': 'law'}\n",
      "{'id': 179, 'name': 'mark', 'major': 'law'}\n",
      "{'id': 180, 'name': 'viola', 'major': 'philosophy'}\n",
      "{'id': 181, 'name': 'viola', 'major': 'medicine'}\n",
      "{'id': 182, 'name': 'michael', 'major': 'computer science'}\n",
      "{'id': 183, 'name': 'taylor', 'major': 'law'}\n",
      "{'id': 184, 'name': 'michael', 'major': 'computer science'}\n",
      "{'id': 185, 'name': 'viola', 'major': 'computer science'}\n",
      "{'id': 186, 'name': 'tom', 'major': 'medicine'}\n",
      "{'id': 187, 'name': 'taylor', 'major': 'law'}\n",
      "{'id': 188, 'name': 'tom', 'major': 'medicine'}\n",
      "{'id': 189, 'name': 'edmund', 'major': 'medicine'}\n",
      "{'id': 190, 'name': 'isabelle', 'major': 'medicine'}\n",
      "{'id': 191, 'name': 'gina', 'major': 'philosophy'}\n",
      "{'id': 192, 'name': 'gina', 'major': 'computer science'}\n",
      "{'id': 193, 'name': 'mark', 'major': 'medicine'}\n",
      "{'id': 194, 'name': 'isabelle', 'major': 'law'}\n",
      "{'id': 195, 'name': 'viola', 'major': 'philosophy'}\n",
      "{'id': 196, 'name': 'gina', 'major': 'computer science'}\n",
      "{'id': 197, 'name': 'gina', 'major': 'philosophy'}\n",
      "{'id': 198, 'name': 'michael', 'major': 'philosophy'}\n",
      "{'id': 199, 'name': 'taylor', 'major': 'law'}\n",
      "{'id': 200, 'name': 'michael', 'major': 'law'}\n",
      "{'id': 201, 'name': 'mark', 'major': 'law'}\n",
      "{'id': 202, 'name': 'adrianna', 'major': 'medicine'}\n",
      "{'id': 203, 'name': 'taylor', 'major': 'medicine'}\n",
      "{'id': 204, 'name': 'gina', 'major': 'medicine'}\n",
      "{'id': 205, 'name': 'isabelle', 'major': 'medicine'}\n",
      "{'id': 206, 'name': 'michael', 'major': 'philosophy'}\n",
      "{'id': 207, 'name': 'adrianna', 'major': 'law'}\n",
      "{'id': 208, 'name': 'gina', 'major': 'medicine'}\n",
      "{'id': 209, 'name': 'michael', 'major': 'philosophy'}\n",
      "{'id': 210, 'name': 'isabelle', 'major': 'law'}\n",
      "{'id': 211, 'name': 'adrianna', 'major': 'computer science'}\n",
      "{'id': 212, 'name': 'gina', 'major': 'law'}\n",
      "{'id': 213, 'name': 'edmund', 'major': 'computer science'}\n",
      "{'id': 214, 'name': 'isabelle', 'major': 'medicine'}\n",
      "{'id': 215, 'name': 'mark', 'major': 'philosophy'}\n",
      "{'id': 216, 'name': 'edmund', 'major': 'law'}\n",
      "{'id': 217, 'name': 'michael', 'major': 'computer science'}\n",
      "{'id': 218, 'name': 'adrianna', 'major': 'philosophy'}\n",
      "{'id': 219, 'name': 'taylor', 'major': 'law'}\n",
      "{'id': 220, 'name': 'gina', 'major': 'law'}\n",
      "{'id': 221, 'name': 'michael', 'major': 'computer science'}\n",
      "{'id': 222, 'name': 'edmund', 'major': 'medicine'}\n",
      "{'id': 223, 'name': 'tom', 'major': 'law'}\n",
      "{'id': 224, 'name': 'taylor', 'major': 'medicine'}\n",
      "{'id': 225, 'name': 'edmund', 'major': 'philosophy'}\n",
      "{'id': 226, 'name': 'tom', 'major': 'law'}\n",
      "{'id': 227, 'name': 'adrianna', 'major': 'medicine'}\n",
      "{'id': 228, 'name': 'adrianna', 'major': 'philosophy'}\n",
      "{'id': 229, 'name': 'michael', 'major': 'computer science'}\n",
      "{'id': 230, 'name': 'edmund', 'major': 'medicine'}\n",
      "{'id': 231, 'name': 'mark', 'major': 'philosophy'}\n",
      "{'id': 232, 'name': 'edmund', 'major': 'philosophy'}\n",
      "{'id': 233, 'name': 'edmund', 'major': 'medicine'}\n",
      "{'id': 234, 'name': 'isabelle', 'major': 'medicine'}\n",
      "{'id': 235, 'name': 'michael', 'major': 'philosophy'}\n",
      "{'id': 236, 'name': 'taylor', 'major': 'philosophy'}\n",
      "{'id': 237, 'name': 'michael', 'major': 'medicine'}\n",
      "{'id': 238, 'name': 'michael', 'major': 'law'}\n",
      "{'id': 239, 'name': 'isabelle', 'major': 'medicine'}\n",
      "{'id': 240, 'name': 'gina', 'major': 'law'}\n",
      "{'id': 241, 'name': 'edmund', 'major': 'medicine'}\n",
      "{'id': 242, 'name': 'gina', 'major': 'law'}\n",
      "{'id': 243, 'name': 'taylor', 'major': 'medicine'}\n",
      "{'id': 244, 'name': 'edmund', 'major': 'medicine'}\n",
      "{'id': 245, 'name': 'gina', 'major': 'philosophy'}\n",
      "{'id': 246, 'name': 'mark', 'major': 'law'}\n",
      "{'id': 247, 'name': 'michael', 'major': 'medicine'}\n",
      "{'id': 248, 'name': 'viola', 'major': 'medicine'}\n",
      "{'id': 249, 'name': 'mark', 'major': 'law'}\n",
      "{'id': 250, 'name': 'taylor', 'major': 'philosophy'}\n",
      "{'id': 251, 'name': 'gina', 'major': 'philosophy'}\n",
      "{'id': 252, 'name': 'isabelle', 'major': 'computer science'}\n",
      "{'id': 253, 'name': 'tom', 'major': 'law'}\n",
      "{'id': 254, 'name': 'edmund', 'major': 'law'}\n",
      "{'id': 255, 'name': 'michael', 'major': 'philosophy'}\n",
      "{'id': 256, 'name': 'adrianna', 'major': 'computer science'}\n",
      "{'id': 257, 'name': 'edmund', 'major': 'computer science'}\n",
      "{'id': 258, 'name': 'edmund', 'major': 'computer science'}\n",
      "{'id': 259, 'name': 'mark', 'major': 'philosophy'}\n",
      "{'id': 260, 'name': 'edmund', 'major': 'philosophy'}\n",
      "{'id': 261, 'name': 'isabelle', 'major': 'computer science'}\n",
      "{'id': 262, 'name': 'viola', 'major': 'medicine'}\n",
      "{'id': 263, 'name': 'adrianna', 'major': 'computer science'}\n",
      "{'id': 264, 'name': 'adrianna', 'major': 'medicine'}\n",
      "{'id': 265, 'name': 'isabelle', 'major': 'computer science'}\n",
      "{'id': 266, 'name': 'viola', 'major': 'medicine'}\n",
      "{'id': 267, 'name': 'tom', 'major': 'philosophy'}\n",
      "{'id': 268, 'name': 'tom', 'major': 'law'}\n",
      "{'id': 269, 'name': 'michael', 'major': 'medicine'}\n",
      "{'id': 270, 'name': 'tom', 'major': 'philosophy'}\n",
      "{'id': 271, 'name': 'michael', 'major': 'medicine'}\n",
      "{'id': 272, 'name': 'edmund', 'major': 'medicine'}\n",
      "{'id': 273, 'name': 'isabelle', 'major': 'computer science'}\n",
      "{'id': 274, 'name': 'adrianna', 'major': 'philosophy'}\n",
      "{'id': 275, 'name': 'adrianna', 'major': 'computer science'}\n",
      "{'id': 276, 'name': 'edmund', 'major': 'philosophy'}\n",
      "{'id': 277, 'name': 'adrianna', 'major': 'computer science'}\n",
      "{'id': 278, 'name': 'edmund', 'major': 'law'}\n",
      "{'id': 279, 'name': 'edmund', 'major': 'law'}\n",
      "{'id': 280, 'name': 'isabelle', 'major': 'law'}\n",
      "{'id': 281, 'name': 'mark', 'major': 'computer science'}\n",
      "{'id': 282, 'name': 'tom', 'major': 'medicine'}\n",
      "{'id': 283, 'name': 'isabelle', 'major': 'medicine'}\n",
      "{'id': 284, 'name': 'edmund', 'major': 'law'}\n",
      "{'id': 285, 'name': 'adrianna', 'major': 'computer science'}\n",
      "{'id': 286, 'name': 'viola', 'major': 'computer science'}\n",
      "{'id': 287, 'name': 'gina', 'major': 'philosophy'}\n",
      "{'id': 288, 'name': 'isabelle', 'major': 'medicine'}\n",
      "{'id': 289, 'name': 'michael', 'major': 'philosophy'}\n",
      "{'id': 290, 'name': 'michael', 'major': 'computer science'}\n",
      "{'id': 291, 'name': 'edmund', 'major': 'law'}\n",
      "{'id': 292, 'name': 'isabelle', 'major': 'law'}\n",
      "{'id': 293, 'name': 'gina', 'major': 'philosophy'}\n",
      "{'id': 294, 'name': 'mark', 'major': 'medicine'}\n",
      "{'id': 295, 'name': 'michael', 'major': 'law'}\n",
      "{'id': 296, 'name': 'edmund', 'major': 'medicine'}\n",
      "{'id': 297, 'name': 'gina', 'major': 'medicine'}\n",
      "{'id': 298, 'name': 'tom', 'major': 'philosophy'}\n",
      "{'id': 299, 'name': 'tom', 'major': 'philosophy'}\n",
      "{'id': 300, 'name': 'edmund', 'major': 'philosophy'}\n",
      "{'id': 301, 'name': 'gina', 'major': 'computer science'}\n",
      "{'id': 302, 'name': 'isabelle', 'major': 'medicine'}\n",
      "{'id': 303, 'name': 'tom', 'major': 'philosophy'}\n",
      "{'id': 304, 'name': 'viola', 'major': 'law'}\n",
      "{'id': 305, 'name': 'viola', 'major': 'computer science'}\n",
      "{'id': 306, 'name': 'adrianna', 'major': 'philosophy'}\n",
      "{'id': 307, 'name': 'taylor', 'major': 'computer science'}\n",
      "{'id': 308, 'name': 'edmund', 'major': 'computer science'}\n",
      "{'id': 309, 'name': 'tom', 'major': 'computer science'}\n",
      "{'id': 310, 'name': 'taylor', 'major': 'medicine'}\n",
      "{'id': 311, 'name': 'viola', 'major': 'philosophy'}\n",
      "{'id': 312, 'name': 'adrianna', 'major': 'philosophy'}\n",
      "{'id': 313, 'name': 'taylor', 'major': 'philosophy'}\n",
      "{'id': 314, 'name': 'viola', 'major': 'medicine'}\n",
      "{'id': 315, 'name': 'mark', 'major': 'law'}\n",
      "{'id': 316, 'name': 'gina', 'major': 'law'}\n",
      "{'id': 317, 'name': 'taylor', 'major': 'computer science'}\n",
      "{'id': 318, 'name': 'michael', 'major': 'medicine'}\n",
      "{'id': 319, 'name': 'viola', 'major': 'philosophy'}\n",
      "{'id': 320, 'name': 'viola', 'major': 'computer science'}\n",
      "{'id': 321, 'name': 'edmund', 'major': 'computer science'}\n",
      "{'id': 322, 'name': 'viola', 'major': 'philosophy'}\n",
      "{'id': 323, 'name': 'mark', 'major': 'philosophy'}\n",
      "{'id': 324, 'name': 'tom', 'major': 'computer science'}\n",
      "{'id': 325, 'name': 'adrianna', 'major': 'medicine'}\n",
      "{'id': 326, 'name': 'viola', 'major': 'philosophy'}\n",
      "{'id': 327, 'name': 'isabelle', 'major': 'computer science'}\n",
      "{'id': 328, 'name': 'gina', 'major': 'medicine'}\n",
      "{'id': 329, 'name': 'viola', 'major': 'medicine'}\n",
      "{'id': 330, 'name': 'michael', 'major': 'computer science'}\n",
      "{'id': 331, 'name': 'tom', 'major': 'computer science'}\n",
      "{'id': 332, 'name': 'taylor', 'major': 'computer science'}\n",
      "{'id': 333, 'name': 'gina', 'major': 'philosophy'}\n",
      "{'id': 334, 'name': 'isabelle', 'major': 'computer science'}\n",
      "{'id': 335, 'name': 'taylor', 'major': 'medicine'}\n",
      "{'id': 336, 'name': 'adrianna', 'major': 'computer science'}\n",
      "{'id': 337, 'name': 'taylor', 'major': 'computer science'}\n",
      "{'id': 338, 'name': 'gina', 'major': 'philosophy'}\n",
      "{'id': 339, 'name': 'gina', 'major': 'law'}\n",
      "{'id': 340, 'name': 'tom', 'major': 'medicine'}\n",
      "{'id': 341, 'name': 'gina', 'major': 'philosophy'}\n",
      "{'id': 342, 'name': 'gina', 'major': 'medicine'}\n",
      "{'id': 343, 'name': 'gina', 'major': 'computer science'}\n",
      "{'id': 344, 'name': 'gina', 'major': 'medicine'}\n",
      "{'id': 345, 'name': 'michael', 'major': 'philosophy'}\n",
      "{'id': 346, 'name': 'edmund', 'major': 'law'}\n",
      "{'id': 347, 'name': 'isabelle', 'major': 'philosophy'}\n",
      "{'id': 348, 'name': 'edmund', 'major': 'philosophy'}\n",
      "{'id': 349, 'name': 'tom', 'major': 'philosophy'}\n",
      "{'id': 350, 'name': 'michael', 'major': 'medicine'}\n",
      "{'id': 351, 'name': 'mark', 'major': 'law'}\n",
      "{'id': 352, 'name': 'edmund', 'major': 'medicine'}\n",
      "{'id': 353, 'name': 'adrianna', 'major': 'computer science'}\n",
      "{'id': 354, 'name': 'michael', 'major': 'computer science'}\n",
      "{'id': 355, 'name': 'adrianna', 'major': 'computer science'}\n",
      "{'id': 356, 'name': 'viola', 'major': 'law'}\n",
      "{'id': 357, 'name': 'gina', 'major': 'law'}\n",
      "{'id': 358, 'name': 'isabelle', 'major': 'medicine'}\n",
      "{'id': 359, 'name': 'gina', 'major': 'computer science'}\n",
      "{'id': 360, 'name': 'edmund', 'major': 'philosophy'}\n",
      "{'id': 361, 'name': 'isabelle', 'major': 'philosophy'}\n",
      "{'id': 362, 'name': 'edmund', 'major': 'computer science'}\n",
      "{'id': 363, 'name': 'viola', 'major': 'computer science'}\n",
      "{'id': 364, 'name': 'mark', 'major': 'computer science'}\n",
      "{'id': 365, 'name': 'mark', 'major': 'law'}\n",
      "{'id': 366, 'name': 'viola', 'major': 'computer science'}\n",
      "{'id': 367, 'name': 'tom', 'major': 'philosophy'}\n",
      "{'id': 368, 'name': 'taylor', 'major': 'law'}\n",
      "{'id': 369, 'name': 'viola', 'major': 'law'}\n",
      "{'id': 370, 'name': 'edmund', 'major': 'law'}\n",
      "{'id': 371, 'name': 'mark', 'major': 'medicine'}\n",
      "{'id': 372, 'name': 'viola', 'major': 'philosophy'}\n",
      "{'id': 373, 'name': 'isabelle', 'major': 'law'}\n",
      "{'id': 374, 'name': 'tom', 'major': 'law'}\n",
      "{'id': 375, 'name': 'tom', 'major': 'computer science'}\n",
      "{'id': 376, 'name': 'adrianna', 'major': 'law'}\n",
      "{'id': 377, 'name': 'michael', 'major': 'medicine'}\n",
      "{'id': 378, 'name': 'michael', 'major': 'medicine'}\n",
      "{'id': 379, 'name': 'mark', 'major': 'law'}\n",
      "{'id': 380, 'name': 'edmund', 'major': 'computer science'}\n",
      "{'id': 381, 'name': 'tom', 'major': 'computer science'}\n",
      "{'id': 382, 'name': 'viola', 'major': 'philosophy'}\n",
      "{'id': 383, 'name': 'viola', 'major': 'philosophy'}\n",
      "{'id': 384, 'name': 'adrianna', 'major': 'computer science'}\n",
      "{'id': 385, 'name': 'gina', 'major': 'medicine'}\n",
      "{'id': 386, 'name': 'edmund', 'major': 'medicine'}\n",
      "{'id': 387, 'name': 'gina', 'major': 'philosophy'}\n",
      "{'id': 388, 'name': 'michael', 'major': 'medicine'}\n",
      "{'id': 389, 'name': 'michael', 'major': 'philosophy'}\n",
      "{'id': 390, 'name': 'isabelle', 'major': 'law'}\n",
      "{'id': 391, 'name': 'isabelle', 'major': 'philosophy'}\n",
      "{'id': 392, 'name': 'viola', 'major': 'medicine'}\n",
      "{'id': 393, 'name': 'taylor', 'major': 'medicine'}\n",
      "{'id': 394, 'name': 'viola', 'major': 'philosophy'}\n",
      "{'id': 395, 'name': 'tom', 'major': 'medicine'}\n",
      "{'id': 396, 'name': 'michael', 'major': 'law'}\n",
      "{'id': 397, 'name': 'viola', 'major': 'philosophy'}\n",
      "{'id': 398, 'name': 'viola', 'major': 'computer science'}\n",
      "{'id': 399, 'name': 'tom', 'major': 'medicine'}\n",
      "{'id': 400, 'name': 'michael', 'major': 'medicine'}\n",
      "{'id': 401, 'name': 'mark', 'major': 'law'}\n",
      "{'id': 402, 'name': 'adrianna', 'major': 'computer science'}\n",
      "{'id': 403, 'name': 'isabelle', 'major': 'computer science'}\n",
      "{'id': 404, 'name': 'taylor', 'major': 'law'}\n",
      "{'id': 405, 'name': 'tom', 'major': 'philosophy'}\n",
      "{'id': 406, 'name': 'isabelle', 'major': 'computer science'}\n",
      "{'id': 407, 'name': 'michael', 'major': 'philosophy'}\n",
      "{'id': 408, 'name': 'edmund', 'major': 'medicine'}\n",
      "{'id': 409, 'name': 'edmund', 'major': 'philosophy'}\n",
      "{'id': 410, 'name': 'adrianna', 'major': 'law'}\n",
      "{'id': 411, 'name': 'adrianna', 'major': 'philosophy'}\n",
      "{'id': 412, 'name': 'michael', 'major': 'law'}\n",
      "{'id': 413, 'name': 'taylor', 'major': 'medicine'}\n",
      "{'id': 414, 'name': 'mark', 'major': 'medicine'}\n",
      "{'id': 415, 'name': 'tom', 'major': 'medicine'}\n",
      "{'id': 416, 'name': 'viola', 'major': 'law'}\n",
      "{'id': 417, 'name': 'tom', 'major': 'medicine'}\n",
      "{'id': 418, 'name': 'gina', 'major': 'philosophy'}\n",
      "{'id': 419, 'name': 'edmund', 'major': 'law'}\n",
      "{'id': 420, 'name': 'taylor', 'major': 'law'}\n",
      "{'id': 421, 'name': 'adrianna', 'major': 'philosophy'}\n",
      "{'id': 422, 'name': 'taylor', 'major': 'philosophy'}\n",
      "{'id': 423, 'name': 'adrianna', 'major': 'law'}\n",
      "{'id': 424, 'name': 'gina', 'major': 'law'}\n",
      "{'id': 425, 'name': 'tom', 'major': 'medicine'}\n",
      "{'id': 426, 'name': 'taylor', 'major': 'philosophy'}\n",
      "{'id': 427, 'name': 'mark', 'major': 'medicine'}\n",
      "{'id': 428, 'name': 'mark', 'major': 'law'}\n",
      "{'id': 429, 'name': 'gina', 'major': 'computer science'}\n",
      "{'id': 430, 'name': 'taylor', 'major': 'law'}\n",
      "{'id': 431, 'name': 'isabelle', 'major': 'medicine'}\n",
      "{'id': 432, 'name': 'viola', 'major': 'computer science'}\n",
      "{'id': 433, 'name': 'michael', 'major': 'philosophy'}\n",
      "{'id': 434, 'name': 'mark', 'major': 'philosophy'}\n",
      "{'id': 435, 'name': 'adrianna', 'major': 'law'}\n",
      "{'id': 436, 'name': 'gina', 'major': 'philosophy'}\n",
      "{'id': 437, 'name': 'viola', 'major': 'law'}\n",
      "{'id': 438, 'name': 'adrianna', 'major': 'law'}\n",
      "{'id': 439, 'name': 'tom', 'major': 'computer science'}\n",
      "{'id': 440, 'name': 'taylor', 'major': 'computer science'}\n",
      "{'id': 441, 'name': 'edmund', 'major': 'medicine'}\n",
      "{'id': 442, 'name': 'isabelle', 'major': 'philosophy'}\n",
      "{'id': 443, 'name': 'viola', 'major': 'law'}\n",
      "{'id': 444, 'name': 'gina', 'major': 'computer science'}\n",
      "{'id': 445, 'name': 'mark', 'major': 'law'}\n",
      "{'id': 446, 'name': 'isabelle', 'major': 'medicine'}\n",
      "{'id': 447, 'name': 'adrianna', 'major': 'law'}\n",
      "{'id': 448, 'name': 'taylor', 'major': 'law'}\n",
      "{'id': 449, 'name': 'mark', 'major': 'computer science'}\n",
      "{'id': 450, 'name': 'isabelle', 'major': 'philosophy'}\n",
      "{'id': 451, 'name': 'mark', 'major': 'law'}\n",
      "{'id': 452, 'name': 'tom', 'major': 'law'}\n",
      "{'id': 453, 'name': 'isabelle', 'major': 'medicine'}\n",
      "{'id': 454, 'name': 'viola', 'major': 'law'}\n",
      "{'id': 455, 'name': 'isabelle', 'major': 'philosophy'}\n",
      "{'id': 456, 'name': 'mark', 'major': 'philosophy'}\n",
      "{'id': 457, 'name': 'edmund', 'major': 'philosophy'}\n",
      "{'id': 458, 'name': 'michael', 'major': 'philosophy'}\n",
      "{'id': 459, 'name': 'tom', 'major': 'computer science'}\n",
      "{'id': 460, 'name': 'edmund', 'major': 'medicine'}\n",
      "{'id': 461, 'name': 'taylor', 'major': 'law'}\n",
      "{'id': 462, 'name': 'mark', 'major': 'medicine'}\n",
      "{'id': 463, 'name': 'tom', 'major': 'computer science'}\n",
      "{'id': 464, 'name': 'adrianna', 'major': 'philosophy'}\n",
      "{'id': 465, 'name': 'gina', 'major': 'computer science'}\n",
      "{'id': 466, 'name': 'mark', 'major': 'philosophy'}\n",
      "{'id': 467, 'name': 'adrianna', 'major': 'computer science'}\n",
      "{'id': 468, 'name': 'michael', 'major': 'computer science'}\n",
      "{'id': 469, 'name': 'edmund', 'major': 'law'}\n",
      "{'id': 470, 'name': 'mark', 'major': 'computer science'}\n",
      "{'id': 471, 'name': 'viola', 'major': 'philosophy'}\n",
      "{'id': 472, 'name': 'tom', 'major': 'law'}\n",
      "{'id': 473, 'name': 'edmund', 'major': 'law'}\n",
      "{'id': 474, 'name': 'michael', 'major': 'law'}\n",
      "{'id': 475, 'name': 'edmund', 'major': 'philosophy'}\n",
      "{'id': 476, 'name': 'edmund', 'major': 'law'}\n",
      "{'id': 477, 'name': 'gina', 'major': 'philosophy'}\n",
      "{'id': 478, 'name': 'viola', 'major': 'law'}\n",
      "{'id': 479, 'name': 'edmund', 'major': 'computer science'}\n",
      "{'id': 480, 'name': 'taylor', 'major': 'computer science'}\n",
      "{'id': 481, 'name': 'mark', 'major': 'medicine'}\n",
      "{'id': 482, 'name': 'tom', 'major': 'philosophy'}\n",
      "{'id': 483, 'name': 'isabelle', 'major': 'computer science'}\n",
      "{'id': 484, 'name': 'tom', 'major': 'medicine'}\n",
      "{'id': 485, 'name': 'isabelle', 'major': 'medicine'}\n",
      "{'id': 486, 'name': 'adrianna', 'major': 'medicine'}\n",
      "{'id': 487, 'name': 'gina', 'major': 'computer science'}\n",
      "{'id': 488, 'name': 'michael', 'major': 'philosophy'}\n",
      "{'id': 489, 'name': 'viola', 'major': 'law'}\n",
      "{'id': 490, 'name': 'mark', 'major': 'law'}\n",
      "{'id': 491, 'name': 'edmund', 'major': 'medicine'}\n",
      "{'id': 492, 'name': 'gina', 'major': 'law'}\n",
      "{'id': 493, 'name': 'taylor', 'major': 'law'}\n",
      "{'id': 494, 'name': 'michael', 'major': 'medicine'}\n",
      "{'id': 495, 'name': 'viola', 'major': 'philosophy'}\n",
      "{'id': 496, 'name': 'isabelle', 'major': 'computer science'}\n",
      "{'id': 497, 'name': 'gina', 'major': 'computer science'}\n",
      "{'id': 498, 'name': 'gina', 'major': 'law'}\n",
      "{'id': 499, 'name': 'taylor', 'major': 'law'}\n",
      "{'id': 500, 'name': 'viola', 'major': 'philosophy'}\n",
      "{'id': 501, 'name': 'michael', 'major': 'law'}\n",
      "{'id': 502, 'name': 'tom', 'major': 'computer science'}\n",
      "{'id': 503, 'name': 'isabelle', 'major': 'law'}\n",
      "{'id': 504, 'name': 'viola', 'major': 'law'}\n",
      "{'id': 505, 'name': 'adrianna', 'major': 'medicine'}\n",
      "{'id': 506, 'name': 'viola', 'major': 'law'}\n",
      "{'id': 507, 'name': 'taylor', 'major': 'philosophy'}\n",
      "{'id': 508, 'name': 'adrianna', 'major': 'medicine'}\n",
      "{'id': 509, 'name': 'taylor', 'major': 'philosophy'}\n",
      "{'id': 510, 'name': 'michael', 'major': 'law'}\n",
      "{'id': 511, 'name': 'adrianna', 'major': 'law'}\n",
      "{'id': 512, 'name': 'viola', 'major': 'computer science'}\n",
      "{'id': 513, 'name': 'edmund', 'major': 'medicine'}\n",
      "{'id': 514, 'name': 'tom', 'major': 'philosophy'}\n",
      "{'id': 515, 'name': 'taylor', 'major': 'computer science'}\n",
      "{'id': 516, 'name': 'taylor', 'major': 'law'}\n",
      "{'id': 517, 'name': 'viola', 'major': 'medicine'}\n",
      "{'id': 518, 'name': 'michael', 'major': 'medicine'}\n",
      "{'id': 519, 'name': 'michael', 'major': 'computer science'}\n",
      "{'id': 520, 'name': 'isabelle', 'major': 'philosophy'}\n",
      "{'id': 521, 'name': 'taylor', 'major': 'medicine'}\n",
      "{'id': 522, 'name': 'edmund', 'major': 'law'}\n",
      "{'id': 523, 'name': 'michael', 'major': 'philosophy'}\n",
      "{'id': 524, 'name': 'isabelle', 'major': 'philosophy'}\n",
      "{'id': 525, 'name': 'michael', 'major': 'medicine'}\n",
      "{'id': 526, 'name': 'gina', 'major': 'medicine'}\n",
      "{'id': 527, 'name': 'taylor', 'major': 'philosophy'}\n",
      "{'id': 528, 'name': 'isabelle', 'major': 'medicine'}\n",
      "{'id': 529, 'name': 'isabelle', 'major': 'law'}\n",
      "{'id': 530, 'name': 'tom', 'major': 'medicine'}\n",
      "{'id': 531, 'name': 'michael', 'major': 'philosophy'}\n",
      "{'id': 532, 'name': 'edmund', 'major': 'law'}\n",
      "{'id': 533, 'name': 'adrianna', 'major': 'medicine'}\n",
      "{'id': 534, 'name': 'mark', 'major': 'computer science'}\n",
      "{'id': 535, 'name': 'isabelle', 'major': 'law'}\n",
      "{'id': 536, 'name': 'viola', 'major': 'computer science'}\n",
      "{'id': 537, 'name': 'adrianna', 'major': 'law'}\n",
      "{'id': 538, 'name': 'michael', 'major': 'law'}\n",
      "{'id': 539, 'name': 'taylor', 'major': 'computer science'}\n",
      "{'id': 540, 'name': 'gina', 'major': 'philosophy'}\n",
      "{'id': 541, 'name': 'gina', 'major': 'computer science'}\n",
      "{'id': 542, 'name': 'mark', 'major': 'medicine'}\n",
      "{'id': 543, 'name': 'mark', 'major': 'philosophy'}\n",
      "{'id': 544, 'name': 'adrianna', 'major': 'computer science'}\n",
      "{'id': 545, 'name': 'tom', 'major': 'philosophy'}\n",
      "{'id': 546, 'name': 'isabelle', 'major': 'medicine'}\n",
      "{'id': 547, 'name': 'viola', 'major': 'medicine'}\n",
      "{'id': 548, 'name': 'viola', 'major': 'medicine'}\n",
      "{'id': 549, 'name': 'edmund', 'major': 'philosophy'}\n",
      "{'id': 550, 'name': 'isabelle', 'major': 'computer science'}\n",
      "{'id': 551, 'name': 'viola', 'major': 'philosophy'}\n",
      "{'id': 552, 'name': 'isabelle', 'major': 'medicine'}\n",
      "{'id': 553, 'name': 'mark', 'major': 'medicine'}\n",
      "{'id': 554, 'name': 'viola', 'major': 'philosophy'}\n",
      "{'id': 555, 'name': 'gina', 'major': 'medicine'}\n",
      "{'id': 556, 'name': 'tom', 'major': 'computer science'}\n",
      "{'id': 557, 'name': 'adrianna', 'major': 'philosophy'}\n",
      "{'id': 558, 'name': 'adrianna', 'major': 'medicine'}\n",
      "{'id': 559, 'name': 'michael', 'major': 'law'}\n",
      "{'id': 560, 'name': 'edmund', 'major': 'law'}\n",
      "{'id': 561, 'name': 'isabelle', 'major': 'philosophy'}\n",
      "{'id': 562, 'name': 'adrianna', 'major': 'law'}\n",
      "{'id': 563, 'name': 'mark', 'major': 'law'}\n",
      "{'id': 564, 'name': 'tom', 'major': 'law'}\n",
      "{'id': 565, 'name': 'mark', 'major': 'medicine'}\n",
      "{'id': 566, 'name': 'isabelle', 'major': 'computer science'}\n",
      "{'id': 567, 'name': 'michael', 'major': 'philosophy'}\n",
      "{'id': 568, 'name': 'edmund', 'major': 'philosophy'}\n",
      "{'id': 569, 'name': 'edmund', 'major': 'computer science'}\n",
      "{'id': 570, 'name': 'adrianna', 'major': 'philosophy'}\n",
      "{'id': 571, 'name': 'edmund', 'major': 'medicine'}\n",
      "{'id': 572, 'name': 'gina', 'major': 'computer science'}\n",
      "{'id': 573, 'name': 'mark', 'major': 'philosophy'}\n",
      "{'id': 574, 'name': 'gina', 'major': 'computer science'}\n",
      "{'id': 575, 'name': 'taylor', 'major': 'medicine'}\n",
      "{'id': 576, 'name': 'adrianna', 'major': 'philosophy'}\n",
      "{'id': 577, 'name': 'isabelle', 'major': 'philosophy'}\n",
      "{'id': 578, 'name': 'mark', 'major': 'computer science'}\n",
      "{'id': 579, 'name': 'isabelle', 'major': 'law'}\n",
      "{'id': 580, 'name': 'tom', 'major': 'medicine'}\n",
      "{'id': 581, 'name': 'viola', 'major': 'computer science'}\n",
      "{'id': 582, 'name': 'gina', 'major': 'law'}\n",
      "{'id': 583, 'name': 'adrianna', 'major': 'medicine'}\n",
      "{'id': 584, 'name': 'isabelle', 'major': 'computer science'}\n",
      "{'id': 585, 'name': 'michael', 'major': 'philosophy'}\n",
      "{'id': 586, 'name': 'edmund', 'major': 'medicine'}\n",
      "{'id': 587, 'name': 'gina', 'major': 'law'}\n",
      "{'id': 588, 'name': 'isabelle', 'major': 'computer science'}\n",
      "{'id': 589, 'name': 'taylor', 'major': 'law'}\n",
      "{'id': 590, 'name': 'isabelle', 'major': 'law'}\n",
      "{'id': 591, 'name': 'taylor', 'major': 'computer science'}\n",
      "{'id': 592, 'name': 'mark', 'major': 'philosophy'}\n",
      "{'id': 593, 'name': 'taylor', 'major': 'medicine'}\n",
      "{'id': 594, 'name': 'gina', 'major': 'computer science'}\n",
      "{'id': 595, 'name': 'taylor', 'major': 'law'}\n",
      "{'id': 596, 'name': 'mark', 'major': 'law'}\n",
      "{'id': 597, 'name': 'adrianna', 'major': 'law'}\n",
      "{'id': 598, 'name': 'mark', 'major': 'philosophy'}\n",
      "{'id': 599, 'name': 'tom', 'major': 'medicine'}\n",
      "{'id': 600, 'name': 'taylor', 'major': 'philosophy'}\n",
      "{'id': 601, 'name': 'mark', 'major': 'computer science'}\n",
      "{'id': 602, 'name': 'mark', 'major': 'philosophy'}\n",
      "{'id': 603, 'name': 'edmund', 'major': 'philosophy'}\n",
      "{'id': 604, 'name': 'isabelle', 'major': 'computer science'}\n",
      "{'id': 605, 'name': 'mark', 'major': 'medicine'}\n",
      "{'id': 606, 'name': 'adrianna', 'major': 'medicine'}\n",
      "{'id': 607, 'name': 'taylor', 'major': 'medicine'}\n",
      "{'id': 608, 'name': 'gina', 'major': 'computer science'}\n",
      "{'id': 609, 'name': 'viola', 'major': 'computer science'}\n",
      "{'id': 610, 'name': 'taylor', 'major': 'computer science'}\n",
      "{'id': 611, 'name': 'isabelle', 'major': 'philosophy'}\n",
      "{'id': 612, 'name': 'gina', 'major': 'computer science'}\n",
      "{'id': 613, 'name': 'mark', 'major': 'law'}\n",
      "{'id': 614, 'name': 'mark', 'major': 'philosophy'}\n",
      "{'id': 615, 'name': 'adrianna', 'major': 'law'}\n",
      "{'id': 616, 'name': 'tom', 'major': 'law'}\n",
      "{'id': 617, 'name': 'viola', 'major': 'medicine'}\n",
      "{'id': 618, 'name': 'mark', 'major': 'computer science'}\n",
      "{'id': 619, 'name': 'gina', 'major': 'computer science'}\n",
      "{'id': 620, 'name': 'edmund', 'major': 'law'}\n",
      "{'id': 621, 'name': 'taylor', 'major': 'medicine'}\n",
      "{'id': 622, 'name': 'edmund', 'major': 'philosophy'}\n",
      "{'id': 623, 'name': 'mark', 'major': 'computer science'}\n",
      "{'id': 624, 'name': 'tom', 'major': 'philosophy'}\n",
      "{'id': 625, 'name': 'michael', 'major': 'law'}\n",
      "{'id': 626, 'name': 'mark', 'major': 'medicine'}\n",
      "{'id': 627, 'name': 'isabelle', 'major': 'computer science'}\n",
      "{'id': 628, 'name': 'tom', 'major': 'medicine'}\n",
      "{'id': 629, 'name': 'tom', 'major': 'philosophy'}\n",
      "{'id': 630, 'name': 'michael', 'major': 'philosophy'}\n",
      "{'id': 631, 'name': 'michael', 'major': 'computer science'}\n",
      "{'id': 632, 'name': 'edmund', 'major': 'philosophy'}\n",
      "{'id': 633, 'name': 'taylor', 'major': 'philosophy'}\n",
      "{'id': 634, 'name': 'adrianna', 'major': 'law'}\n",
      "{'id': 635, 'name': 'viola', 'major': 'medicine'}\n",
      "{'id': 636, 'name': 'gina', 'major': 'philosophy'}\n",
      "{'id': 637, 'name': 'taylor', 'major': 'computer science'}\n",
      "{'id': 638, 'name': 'tom', 'major': 'philosophy'}\n",
      "{'id': 639, 'name': 'isabelle', 'major': 'philosophy'}\n",
      "{'id': 640, 'name': 'adrianna', 'major': 'philosophy'}\n",
      "{'id': 641, 'name': 'adrianna', 'major': 'philosophy'}\n",
      "{'id': 642, 'name': 'mark', 'major': 'law'}\n",
      "{'id': 643, 'name': 'michael', 'major': 'computer science'}\n",
      "{'id': 644, 'name': 'michael', 'major': 'medicine'}\n",
      "{'id': 645, 'name': 'mark', 'major': 'medicine'}\n",
      "{'id': 646, 'name': 'viola', 'major': 'computer science'}\n",
      "{'id': 647, 'name': 'gina', 'major': 'computer science'}\n",
      "{'id': 648, 'name': 'taylor', 'major': 'law'}\n",
      "{'id': 649, 'name': 'taylor', 'major': 'philosophy'}\n",
      "{'id': 650, 'name': 'viola', 'major': 'law'}\n",
      "{'id': 651, 'name': 'viola', 'major': 'philosophy'}\n",
      "{'id': 652, 'name': 'isabelle', 'major': 'philosophy'}\n",
      "{'id': 653, 'name': 'gina', 'major': 'medicine'}\n",
      "{'id': 654, 'name': 'mark', 'major': 'computer science'}\n",
      "{'id': 655, 'name': 'tom', 'major': 'law'}\n",
      "{'id': 656, 'name': 'viola', 'major': 'computer science'}\n",
      "{'id': 657, 'name': 'mark', 'major': 'law'}\n",
      "{'id': 658, 'name': 'taylor', 'major': 'law'}\n",
      "{'id': 659, 'name': 'isabelle', 'major': 'medicine'}\n",
      "{'id': 660, 'name': 'isabelle', 'major': 'law'}\n",
      "{'id': 661, 'name': 'michael', 'major': 'medicine'}\n",
      "{'id': 662, 'name': 'viola', 'major': 'philosophy'}\n",
      "{'id': 663, 'name': 'viola', 'major': 'computer science'}\n",
      "{'id': 664, 'name': 'tom', 'major': 'medicine'}\n",
      "{'id': 665, 'name': 'michael', 'major': 'medicine'}\n",
      "{'id': 666, 'name': 'tom', 'major': 'philosophy'}\n",
      "{'id': 667, 'name': 'tom', 'major': 'philosophy'}\n",
      "{'id': 668, 'name': 'tom', 'major': 'philosophy'}\n",
      "{'id': 669, 'name': 'viola', 'major': 'philosophy'}\n",
      "{'id': 670, 'name': 'isabelle', 'major': 'computer science'}\n",
      "{'id': 671, 'name': 'adrianna', 'major': 'medicine'}\n",
      "{'id': 672, 'name': 'tom', 'major': 'philosophy'}\n",
      "{'id': 673, 'name': 'taylor', 'major': 'philosophy'}\n",
      "{'id': 674, 'name': 'michael', 'major': 'law'}\n",
      "{'id': 675, 'name': 'michael', 'major': 'law'}\n",
      "{'id': 676, 'name': 'mark', 'major': 'computer science'}\n",
      "{'id': 677, 'name': 'gina', 'major': 'philosophy'}\n",
      "{'id': 678, 'name': 'isabelle', 'major': 'medicine'}\n",
      "{'id': 679, 'name': 'gina', 'major': 'philosophy'}\n",
      "{'id': 680, 'name': 'adrianna', 'major': 'law'}\n",
      "{'id': 681, 'name': 'michael', 'major': 'computer science'}\n",
      "{'id': 682, 'name': 'mark', 'major': 'law'}\n",
      "{'id': 683, 'name': 'mark', 'major': 'medicine'}\n",
      "{'id': 684, 'name': 'taylor', 'major': 'law'}\n",
      "{'id': 685, 'name': 'viola', 'major': 'medicine'}\n",
      "{'id': 686, 'name': 'mark', 'major': 'philosophy'}\n",
      "{'id': 687, 'name': 'tom', 'major': 'medicine'}\n",
      "{'id': 688, 'name': 'adrianna', 'major': 'philosophy'}\n",
      "{'id': 689, 'name': 'taylor', 'major': 'philosophy'}\n",
      "{'id': 690, 'name': 'adrianna', 'major': 'law'}\n",
      "{'id': 691, 'name': 'taylor', 'major': 'philosophy'}\n",
      "{'id': 692, 'name': 'michael', 'major': 'philosophy'}\n",
      "{'id': 693, 'name': 'tom', 'major': 'law'}\n",
      "{'id': 694, 'name': 'gina', 'major': 'medicine'}\n",
      "{'id': 695, 'name': 'tom', 'major': 'philosophy'}\n",
      "{'id': 696, 'name': 'viola', 'major': 'medicine'}\n",
      "{'id': 697, 'name': 'edmund', 'major': 'computer science'}\n",
      "{'id': 698, 'name': 'edmund', 'major': 'law'}\n",
      "{'id': 699, 'name': 'edmund', 'major': 'computer science'}\n",
      "{'id': 700, 'name': 'viola', 'major': 'computer science'}\n",
      "{'id': 701, 'name': 'mark', 'major': 'philosophy'}\n",
      "{'id': 702, 'name': 'michael', 'major': 'computer science'}\n",
      "{'id': 703, 'name': 'tom', 'major': 'medicine'}\n",
      "{'id': 704, 'name': 'taylor', 'major': 'computer science'}\n",
      "{'id': 705, 'name': 'michael', 'major': 'medicine'}\n",
      "{'id': 706, 'name': 'mark', 'major': 'philosophy'}\n",
      "{'id': 707, 'name': 'viola', 'major': 'computer science'}\n",
      "{'id': 708, 'name': 'adrianna', 'major': 'computer science'}\n",
      "{'id': 709, 'name': 'tom', 'major': 'computer science'}\n",
      "{'id': 710, 'name': 'tom', 'major': 'medicine'}\n",
      "{'id': 711, 'name': 'gina', 'major': 'philosophy'}\n",
      "{'id': 712, 'name': 'adrianna', 'major': 'law'}\n",
      "{'id': 713, 'name': 'isabelle', 'major': 'law'}\n",
      "{'id': 714, 'name': 'mark', 'major': 'law'}\n",
      "{'id': 715, 'name': 'viola', 'major': 'law'}\n",
      "{'id': 716, 'name': 'adrianna', 'major': 'medicine'}\n",
      "{'id': 717, 'name': 'mark', 'major': 'medicine'}\n",
      "{'id': 718, 'name': 'viola', 'major': 'philosophy'}\n",
      "{'id': 719, 'name': 'tom', 'major': 'law'}\n",
      "{'id': 720, 'name': 'adrianna', 'major': 'law'}\n",
      "{'id': 721, 'name': 'isabelle', 'major': 'law'}\n",
      "{'id': 722, 'name': 'michael', 'major': 'computer science'}\n",
      "{'id': 723, 'name': 'viola', 'major': 'law'}\n",
      "{'id': 724, 'name': 'tom', 'major': 'philosophy'}\n",
      "{'id': 725, 'name': 'gina', 'major': 'medicine'}\n",
      "{'id': 726, 'name': 'adrianna', 'major': 'law'}\n",
      "{'id': 727, 'name': 'adrianna', 'major': 'medicine'}\n",
      "{'id': 728, 'name': 'adrianna', 'major': 'medicine'}\n",
      "{'id': 729, 'name': 'tom', 'major': 'philosophy'}\n",
      "{'id': 730, 'name': 'adrianna', 'major': 'law'}\n",
      "{'id': 731, 'name': 'tom', 'major': 'philosophy'}\n",
      "{'id': 732, 'name': 'gina', 'major': 'philosophy'}\n",
      "{'id': 733, 'name': 'isabelle', 'major': 'philosophy'}\n",
      "{'id': 734, 'name': 'viola', 'major': 'medicine'}\n",
      "{'id': 735, 'name': 'michael', 'major': 'law'}\n",
      "{'id': 736, 'name': 'isabelle', 'major': 'medicine'}\n",
      "{'id': 737, 'name': 'tom', 'major': 'medicine'}\n",
      "{'id': 738, 'name': 'adrianna', 'major': 'philosophy'}\n",
      "{'id': 739, 'name': 'edmund', 'major': 'law'}\n",
      "{'id': 740, 'name': 'gina', 'major': 'computer science'}\n",
      "{'id': 741, 'name': 'adrianna', 'major': 'medicine'}\n",
      "{'id': 742, 'name': 'tom', 'major': 'law'}\n",
      "{'id': 743, 'name': 'adrianna', 'major': 'computer science'}\n",
      "{'id': 744, 'name': 'gina', 'major': 'computer science'}\n",
      "{'id': 745, 'name': 'taylor', 'major': 'computer science'}\n",
      "{'id': 746, 'name': 'isabelle', 'major': 'philosophy'}\n",
      "{'id': 747, 'name': 'isabelle', 'major': 'philosophy'}\n",
      "{'id': 748, 'name': 'tom', 'major': 'philosophy'}\n",
      "{'id': 749, 'name': 'isabelle', 'major': 'computer science'}\n",
      "{'id': 750, 'name': 'adrianna', 'major': 'medicine'}\n",
      "{'id': 751, 'name': 'gina', 'major': 'medicine'}\n",
      "{'id': 752, 'name': 'isabelle', 'major': 'medicine'}\n",
      "{'id': 753, 'name': 'gina', 'major': 'philosophy'}\n",
      "{'id': 754, 'name': 'taylor', 'major': 'law'}\n",
      "{'id': 755, 'name': 'mark', 'major': 'philosophy'}\n",
      "{'id': 756, 'name': 'gina', 'major': 'law'}\n",
      "{'id': 757, 'name': 'mark', 'major': 'medicine'}\n",
      "{'id': 758, 'name': 'edmund', 'major': 'law'}\n",
      "{'id': 759, 'name': 'viola', 'major': 'law'}\n",
      "{'id': 760, 'name': 'gina', 'major': 'philosophy'}\n",
      "{'id': 761, 'name': 'michael', 'major': 'philosophy'}\n",
      "{'id': 762, 'name': 'viola', 'major': 'computer science'}\n",
      "{'id': 763, 'name': 'gina', 'major': 'medicine'}\n",
      "{'id': 764, 'name': 'isabelle', 'major': 'computer science'}\n",
      "{'id': 765, 'name': 'adrianna', 'major': 'philosophy'}\n",
      "{'id': 766, 'name': 'gina', 'major': 'law'}\n",
      "{'id': 767, 'name': 'taylor', 'major': 'law'}\n",
      "{'id': 768, 'name': 'tom', 'major': 'medicine'}\n",
      "{'id': 769, 'name': 'adrianna', 'major': 'computer science'}\n",
      "{'id': 770, 'name': 'isabelle', 'major': 'law'}\n",
      "{'id': 771, 'name': 'mark', 'major': 'law'}\n",
      "{'id': 772, 'name': 'michael', 'major': 'medicine'}\n",
      "{'id': 773, 'name': 'adrianna', 'major': 'computer science'}\n",
      "{'id': 774, 'name': 'viola', 'major': 'computer science'}\n",
      "{'id': 775, 'name': 'tom', 'major': 'law'}\n",
      "{'id': 776, 'name': 'michael', 'major': 'computer science'}\n",
      "{'id': 777, 'name': 'michael', 'major': 'philosophy'}\n",
      "{'id': 778, 'name': 'adrianna', 'major': 'law'}\n",
      "{'id': 779, 'name': 'tom', 'major': 'computer science'}\n",
      "{'id': 780, 'name': 'michael', 'major': 'law'}\n",
      "{'id': 781, 'name': 'gina', 'major': 'computer science'}\n",
      "{'id': 782, 'name': 'taylor', 'major': 'computer science'}\n",
      "{'id': 783, 'name': 'taylor', 'major': 'law'}\n",
      "{'id': 784, 'name': 'taylor', 'major': 'philosophy'}\n",
      "{'id': 785, 'name': 'michael', 'major': 'computer science'}\n",
      "{'id': 786, 'name': 'adrianna', 'major': 'computer science'}\n",
      "{'id': 787, 'name': 'adrianna', 'major': 'computer science'}\n",
      "{'id': 788, 'name': 'taylor', 'major': 'law'}\n",
      "{'id': 789, 'name': 'isabelle', 'major': 'philosophy'}\n",
      "{'id': 790, 'name': 'gina', 'major': 'philosophy'}\n",
      "{'id': 791, 'name': 'gina', 'major': 'law'}\n",
      "{'id': 792, 'name': 'edmund', 'major': 'computer science'}\n",
      "{'id': 793, 'name': 'michael', 'major': 'philosophy'}\n",
      "{'id': 794, 'name': 'edmund', 'major': 'philosophy'}\n",
      "{'id': 795, 'name': 'michael', 'major': 'computer science'}\n",
      "{'id': 796, 'name': 'mark', 'major': 'law'}\n",
      "{'id': 797, 'name': 'edmund', 'major': 'philosophy'}\n",
      "{'id': 798, 'name': 'gina', 'major': 'law'}\n",
      "{'id': 799, 'name': 'taylor', 'major': 'computer science'}\n",
      "{'id': 800, 'name': 'michael', 'major': 'computer science'}\n",
      "{'id': 801, 'name': 'michael', 'major': 'philosophy'}\n",
      "{'id': 802, 'name': 'edmund', 'major': 'medicine'}\n",
      "{'id': 803, 'name': 'viola', 'major': 'philosophy'}\n",
      "{'id': 804, 'name': 'michael', 'major': 'law'}\n",
      "{'id': 805, 'name': 'taylor', 'major': 'philosophy'}\n",
      "{'id': 806, 'name': 'adrianna', 'major': 'computer science'}\n",
      "{'id': 807, 'name': 'taylor', 'major': 'law'}\n",
      "{'id': 808, 'name': 'isabelle', 'major': 'law'}\n",
      "{'id': 809, 'name': 'viola', 'major': 'computer science'}\n",
      "{'id': 810, 'name': 'viola', 'major': 'computer science'}\n",
      "{'id': 811, 'name': 'tom', 'major': 'law'}\n",
      "{'id': 812, 'name': 'taylor', 'major': 'medicine'}\n",
      "{'id': 813, 'name': 'adrianna', 'major': 'computer science'}\n",
      "{'id': 814, 'name': 'mark', 'major': 'law'}\n",
      "{'id': 815, 'name': 'taylor', 'major': 'philosophy'}\n",
      "{'id': 816, 'name': 'michael', 'major': 'computer science'}\n",
      "{'id': 817, 'name': 'tom', 'major': 'medicine'}\n",
      "{'id': 818, 'name': 'adrianna', 'major': 'medicine'}\n",
      "{'id': 819, 'name': 'michael', 'major': 'medicine'}\n",
      "{'id': 820, 'name': 'taylor', 'major': 'medicine'}\n",
      "{'id': 821, 'name': 'mark', 'major': 'law'}\n",
      "{'id': 822, 'name': 'tom', 'major': 'philosophy'}\n",
      "{'id': 823, 'name': 'gina', 'major': 'medicine'}\n",
      "{'id': 824, 'name': 'edmund', 'major': 'computer science'}\n",
      "{'id': 825, 'name': 'viola', 'major': 'law'}\n",
      "{'id': 826, 'name': 'tom', 'major': 'law'}\n",
      "{'id': 827, 'name': 'adrianna', 'major': 'law'}\n",
      "{'id': 828, 'name': 'michael', 'major': 'philosophy'}\n",
      "{'id': 829, 'name': 'tom', 'major': 'computer science'}\n",
      "{'id': 830, 'name': 'tom', 'major': 'computer science'}\n",
      "{'id': 831, 'name': 'tom', 'major': 'computer science'}\n",
      "{'id': 832, 'name': 'mark', 'major': 'law'}\n",
      "{'id': 833, 'name': 'mark', 'major': 'medicine'}\n",
      "{'id': 834, 'name': 'isabelle', 'major': 'philosophy'}\n",
      "{'id': 835, 'name': 'adrianna', 'major': 'medicine'}\n",
      "{'id': 836, 'name': 'isabelle', 'major': 'law'}\n",
      "{'id': 837, 'name': 'gina', 'major': 'philosophy'}\n",
      "{'id': 838, 'name': 'adrianna', 'major': 'law'}\n",
      "{'id': 839, 'name': 'gina', 'major': 'medicine'}\n",
      "{'id': 840, 'name': 'viola', 'major': 'law'}\n",
      "{'id': 841, 'name': 'edmund', 'major': 'philosophy'}\n",
      "{'id': 842, 'name': 'edmund', 'major': 'medicine'}\n",
      "{'id': 843, 'name': 'michael', 'major': 'law'}\n",
      "{'id': 844, 'name': 'viola', 'major': 'medicine'}\n",
      "{'id': 845, 'name': 'taylor', 'major': 'computer science'}\n",
      "{'id': 846, 'name': 'mark', 'major': 'medicine'}\n",
      "{'id': 847, 'name': 'taylor', 'major': 'philosophy'}\n",
      "{'id': 848, 'name': 'adrianna', 'major': 'medicine'}\n",
      "{'id': 849, 'name': 'mark', 'major': 'philosophy'}\n",
      "{'id': 850, 'name': 'isabelle', 'major': 'law'}\n",
      "{'id': 851, 'name': 'michael', 'major': 'medicine'}\n",
      "{'id': 852, 'name': 'adrianna', 'major': 'law'}\n",
      "{'id': 853, 'name': 'gina', 'major': 'computer science'}\n",
      "{'id': 854, 'name': 'viola', 'major': 'philosophy'}\n",
      "{'id': 855, 'name': 'taylor', 'major': 'computer science'}\n",
      "{'id': 856, 'name': 'tom', 'major': 'law'}\n",
      "{'id': 857, 'name': 'tom', 'major': 'philosophy'}\n",
      "{'id': 858, 'name': 'edmund', 'major': 'medicine'}\n",
      "{'id': 859, 'name': 'viola', 'major': 'law'}\n",
      "{'id': 860, 'name': 'isabelle', 'major': 'computer science'}\n",
      "{'id': 861, 'name': 'adrianna', 'major': 'law'}\n",
      "{'id': 862, 'name': 'taylor', 'major': 'law'}\n",
      "{'id': 863, 'name': 'michael', 'major': 'philosophy'}\n",
      "{'id': 864, 'name': 'viola', 'major': 'computer science'}\n",
      "{'id': 865, 'name': 'tom', 'major': 'medicine'}\n",
      "{'id': 866, 'name': 'gina', 'major': 'philosophy'}\n",
      "{'id': 867, 'name': 'tom', 'major': 'computer science'}\n",
      "{'id': 868, 'name': 'michael', 'major': 'computer science'}\n",
      "{'id': 869, 'name': 'gina', 'major': 'computer science'}\n",
      "{'id': 870, 'name': 'mark', 'major': 'philosophy'}\n",
      "{'id': 871, 'name': 'isabelle', 'major': 'computer science'}\n",
      "{'id': 872, 'name': 'adrianna', 'major': 'philosophy'}\n",
      "{'id': 873, 'name': 'gina', 'major': 'philosophy'}\n",
      "{'id': 874, 'name': 'taylor', 'major': 'medicine'}\n",
      "{'id': 875, 'name': 'michael', 'major': 'law'}\n",
      "{'id': 876, 'name': 'mark', 'major': 'medicine'}\n",
      "{'id': 877, 'name': 'taylor', 'major': 'computer science'}\n",
      "{'id': 878, 'name': 'michael', 'major': 'philosophy'}\n",
      "{'id': 879, 'name': 'viola', 'major': 'computer science'}\n",
      "{'id': 880, 'name': 'michael', 'major': 'philosophy'}\n",
      "{'id': 881, 'name': 'tom', 'major': 'medicine'}\n",
      "{'id': 882, 'name': 'michael', 'major': 'medicine'}\n",
      "{'id': 883, 'name': 'tom', 'major': 'medicine'}\n",
      "{'id': 884, 'name': 'viola', 'major': 'law'}\n",
      "{'id': 885, 'name': 'michael', 'major': 'medicine'}\n",
      "{'id': 886, 'name': 'tom', 'major': 'philosophy'}\n",
      "{'id': 887, 'name': 'adrianna', 'major': 'philosophy'}\n",
      "{'id': 888, 'name': 'mark', 'major': 'philosophy'}\n",
      "{'id': 889, 'name': 'viola', 'major': 'computer science'}\n",
      "{'id': 890, 'name': 'taylor', 'major': 'medicine'}\n",
      "{'id': 891, 'name': 'mark', 'major': 'philosophy'}\n",
      "{'id': 892, 'name': 'tom', 'major': 'computer science'}\n",
      "{'id': 893, 'name': 'michael', 'major': 'medicine'}\n",
      "{'id': 894, 'name': 'taylor', 'major': 'law'}\n",
      "{'id': 895, 'name': 'tom', 'major': 'philosophy'}\n",
      "{'id': 896, 'name': 'adrianna', 'major': 'law'}\n",
      "{'id': 897, 'name': 'tom', 'major': 'law'}\n",
      "{'id': 898, 'name': 'adrianna', 'major': 'computer science'}\n",
      "{'id': 899, 'name': 'michael', 'major': 'law'}\n",
      "{'id': 900, 'name': 'mark', 'major': 'philosophy'}\n",
      "{'id': 901, 'name': 'isabelle', 'major': 'medicine'}\n",
      "{'id': 902, 'name': 'isabelle', 'major': 'computer science'}\n",
      "{'id': 903, 'name': 'isabelle', 'major': 'computer science'}\n",
      "{'id': 904, 'name': 'gina', 'major': 'philosophy'}\n",
      "{'id': 905, 'name': 'tom', 'major': 'philosophy'}\n",
      "{'id': 906, 'name': 'viola', 'major': 'philosophy'}\n",
      "{'id': 907, 'name': 'adrianna', 'major': 'law'}\n",
      "{'id': 908, 'name': 'taylor', 'major': 'law'}\n",
      "{'id': 909, 'name': 'edmund', 'major': 'philosophy'}\n",
      "{'id': 910, 'name': 'isabelle', 'major': 'medicine'}\n",
      "{'id': 911, 'name': 'isabelle', 'major': 'philosophy'}\n",
      "{'id': 912, 'name': 'gina', 'major': 'medicine'}\n",
      "{'id': 913, 'name': 'michael', 'major': 'law'}\n",
      "{'id': 914, 'name': 'adrianna', 'major': 'medicine'}\n",
      "{'id': 915, 'name': 'taylor', 'major': 'medicine'}\n",
      "{'id': 916, 'name': 'taylor', 'major': 'philosophy'}\n",
      "{'id': 917, 'name': 'taylor', 'major': 'law'}\n",
      "{'id': 918, 'name': 'viola', 'major': 'philosophy'}\n",
      "{'id': 919, 'name': 'isabelle', 'major': 'law'}\n",
      "{'id': 920, 'name': 'mark', 'major': 'medicine'}\n",
      "{'id': 921, 'name': 'adrianna', 'major': 'computer science'}\n",
      "{'id': 922, 'name': 'michael', 'major': 'computer science'}\n",
      "{'id': 923, 'name': 'michael', 'major': 'philosophy'}\n",
      "{'id': 924, 'name': 'isabelle', 'major': 'medicine'}\n",
      "{'id': 925, 'name': 'michael', 'major': 'philosophy'}\n",
      "{'id': 926, 'name': 'adrianna', 'major': 'philosophy'}\n",
      "{'id': 927, 'name': 'tom', 'major': 'philosophy'}\n",
      "{'id': 928, 'name': 'tom', 'major': 'law'}\n",
      "{'id': 929, 'name': 'gina', 'major': 'philosophy'}\n"
     ]
    },
    {
     "name": "stdout",
     "output_type": "stream",
     "text": [
      "{'id': 930, 'name': 'tom', 'major': 'medicine'}\n",
      "{'id': 931, 'name': 'adrianna', 'major': 'medicine'}\n",
      "{'id': 932, 'name': 'tom', 'major': 'philosophy'}\n",
      "{'id': 933, 'name': 'taylor', 'major': 'medicine'}\n",
      "{'id': 934, 'name': 'taylor', 'major': 'philosophy'}\n",
      "{'id': 935, 'name': 'isabelle', 'major': 'computer science'}\n",
      "{'id': 936, 'name': 'gina', 'major': 'computer science'}\n",
      "{'id': 937, 'name': 'taylor', 'major': 'computer science'}\n",
      "{'id': 938, 'name': 'viola', 'major': 'computer science'}\n",
      "{'id': 939, 'name': 'edmund', 'major': 'law'}\n",
      "{'id': 940, 'name': 'edmund', 'major': 'computer science'}\n",
      "{'id': 941, 'name': 'mark', 'major': 'philosophy'}\n",
      "{'id': 942, 'name': 'taylor', 'major': 'medicine'}\n",
      "{'id': 943, 'name': 'edmund', 'major': 'medicine'}\n",
      "{'id': 944, 'name': 'tom', 'major': 'computer science'}\n",
      "{'id': 945, 'name': 'tom', 'major': 'law'}\n",
      "{'id': 946, 'name': 'viola', 'major': 'philosophy'}\n",
      "{'id': 947, 'name': 'adrianna', 'major': 'computer science'}\n",
      "{'id': 948, 'name': 'michael', 'major': 'philosophy'}\n",
      "{'id': 949, 'name': 'mark', 'major': 'medicine'}\n",
      "{'id': 950, 'name': 'michael', 'major': 'medicine'}\n",
      "{'id': 951, 'name': 'edmund', 'major': 'philosophy'}\n",
      "{'id': 952, 'name': 'taylor', 'major': 'computer science'}\n",
      "{'id': 953, 'name': 'taylor', 'major': 'law'}\n",
      "{'id': 954, 'name': 'taylor', 'major': 'law'}\n",
      "{'id': 955, 'name': 'tom', 'major': 'medicine'}\n",
      "{'id': 956, 'name': 'edmund', 'major': 'computer science'}\n",
      "{'id': 957, 'name': 'adrianna', 'major': 'medicine'}\n",
      "{'id': 958, 'name': 'viola', 'major': 'medicine'}\n",
      "{'id': 959, 'name': 'viola', 'major': 'computer science'}\n",
      "{'id': 960, 'name': 'viola', 'major': 'medicine'}\n",
      "{'id': 961, 'name': 'adrianna', 'major': 'medicine'}\n",
      "{'id': 962, 'name': 'viola', 'major': 'computer science'}\n",
      "{'id': 963, 'name': 'gina', 'major': 'philosophy'}\n",
      "{'id': 964, 'name': 'edmund', 'major': 'philosophy'}\n",
      "{'id': 965, 'name': 'michael', 'major': 'medicine'}\n",
      "{'id': 966, 'name': 'adrianna', 'major': 'medicine'}\n",
      "{'id': 967, 'name': 'adrianna', 'major': 'law'}\n",
      "{'id': 968, 'name': 'gina', 'major': 'law'}\n",
      "{'id': 969, 'name': 'tom', 'major': 'computer science'}\n",
      "{'id': 970, 'name': 'isabelle', 'major': 'computer science'}\n",
      "{'id': 971, 'name': 'tom', 'major': 'medicine'}\n",
      "{'id': 972, 'name': 'gina', 'major': 'philosophy'}\n",
      "{'id': 973, 'name': 'viola', 'major': 'computer science'}\n",
      "{'id': 974, 'name': 'tom', 'major': 'philosophy'}\n",
      "{'id': 975, 'name': 'taylor', 'major': 'law'}\n",
      "{'id': 976, 'name': 'adrianna', 'major': 'law'}\n",
      "{'id': 977, 'name': 'taylor', 'major': 'medicine'}\n",
      "{'id': 978, 'name': 'isabelle', 'major': 'law'}\n",
      "{'id': 979, 'name': 'gina', 'major': 'computer science'}\n",
      "{'id': 980, 'name': 'edmund', 'major': 'philosophy'}\n",
      "{'id': 981, 'name': 'adrianna', 'major': 'medicine'}\n",
      "{'id': 982, 'name': 'gina', 'major': 'medicine'}\n",
      "{'id': 983, 'name': 'mark', 'major': 'medicine'}\n",
      "{'id': 984, 'name': 'adrianna', 'major': 'philosophy'}\n",
      "{'id': 985, 'name': 'michael', 'major': 'medicine'}\n",
      "{'id': 986, 'name': 'michael', 'major': 'philosophy'}\n",
      "{'id': 987, 'name': 'gina', 'major': 'medicine'}\n",
      "{'id': 988, 'name': 'taylor', 'major': 'law'}\n",
      "{'id': 989, 'name': 'taylor', 'major': 'medicine'}\n",
      "{'id': 990, 'name': 'tom', 'major': 'philosophy'}\n",
      "{'id': 991, 'name': 'viola', 'major': 'computer science'}\n",
      "{'id': 992, 'name': 'michael', 'major': 'computer science'}\n",
      "{'id': 993, 'name': 'tom', 'major': 'medicine'}\n",
      "{'id': 994, 'name': 'mark', 'major': 'medicine'}\n",
      "{'id': 995, 'name': 'taylor', 'major': 'philosophy'}\n",
      "{'id': 996, 'name': 'edmund', 'major': 'computer science'}\n",
      "{'id': 997, 'name': 'michael', 'major': 'medicine'}\n",
      "{'id': 998, 'name': 'gina', 'major': 'philosophy'}\n",
      "{'id': 999, 'name': 'isabelle', 'major': 'medicine'}\n"
     ]
    }
   ],
   "source": [
    "import random\n",
    "\n",
    "names = ['gina', 'taylor', 'mark', 'viola', 'isabelle', 'adrianna', 'tom', 'edmund', 'michael']\n",
    "majors = ['medicine', 'law', 'computer science', 'philosophy']\n",
    "\n",
    "@my_decorator\n",
    "def people_list(num_people):\n",
    "    result = []\n",
    "    for n in range(num_people):\n",
    "        person = {\n",
    "            'id':n,\n",
    "            'name': random.choice(names),\n",
    "            'major': random.choice(majors)\n",
    "        }\n",
    "        result.append(person)\n",
    "    return result\n",
    "\n",
    "@my_decorator\n",
    "def people_gen(num_people):\n",
    "    for n in range(num_people):\n",
    "        person = {\n",
    "            'id':n,\n",
    "            'name': random.choice(names),\n",
    "            'major': random.choice(majors)\n",
    "        }\n",
    "        yield person\n",
    "        \n",
    "my_list = people_list(1000)\n",
    "my_gen = people_gen(1000)\n",
    "\n",
    "for person in my_gen:\n",
    "    print(person)"
   ]
  },
  {
   "cell_type": "code",
   "execution_count": 58,
   "metadata": {},
   "outputs": [],
   "source": []
  },
  {
   "cell_type": "code",
   "execution_count": null,
   "metadata": {},
   "outputs": [],
   "source": []
  }
 ],
 "metadata": {
  "kernelspec": {
   "display_name": "Python 3",
   "language": "python",
   "name": "python3"
  },
  "language_info": {
   "codemirror_mode": {
    "name": "ipython",
    "version": 3
   },
   "file_extension": ".py",
   "mimetype": "text/x-python",
   "name": "python",
   "nbconvert_exporter": "python",
   "pygments_lexer": "ipython3",
   "version": "3.7.4"
  }
 },
 "nbformat": 4,
 "nbformat_minor": 2
}
