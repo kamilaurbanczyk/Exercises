{
 "cells": [
  {
   "cell_type": "markdown",
   "metadata": {},
   "source": [
    "## Regular expressions ## \n",
    "\n",
    "\n",
    "### 1.1 Finding one match in string ###\n",
    "1. Import 're' module.\n",
    "2. Create Regex Object by passing pattern to compile() function.\n",
    "3. Call search() function on regex object and pass it a string you want to look for a match.\n",
    "4. Store Matching Object (if it exists) in variable 'mo'.\n",
    "5. Call group() function on object mo to display a whole match."
   ]
  },
  {
   "cell_type": "code",
   "execution_count": 1,
   "metadata": {},
   "outputs": [],
   "source": [
    "import re "
   ]
  },
  {
   "cell_type": "code",
   "execution_count": 58,
   "metadata": {},
   "outputs": [],
   "source": [
    "# Write function to search a text for phone number (e.x. 675 678 900, 675-678-900, 675678900)\n",
    "def find_number(text):\n",
    "    pattern = re.compile(r'\\D\\d{3}\\s\\d{3}\\s\\d{3}\\D|\\D\\d{3}-\\d{3}-\\d{3}\\D|\\D\\d{9}\\D')\n",
    "    mo = pattern.search(text)\n",
    "    if mo != None:\n",
    "        return mo.group()[1:-1]\n",
    "    else:\n",
    "        return 'No match'"
   ]
  },
  {
   "cell_type": "code",
   "execution_count": 63,
   "metadata": {},
   "outputs": [
    {
     "data": {
      "text/plain": [
       "'123456789'"
      ]
     },
     "execution_count": 63,
     "metadata": {},
     "output_type": "execute_result"
    }
   ],
   "source": [
    "text = 'Dzis jest 24.10. Szukamy chetnych do pracy za 12 zł/h. Platacja ma wysokosc 34567 '\\\n",
    "'metrow. Prosze  kontakt na nr 123456789 lub do biura na numer 3456 23 23. 3345-890-798 ' \\\n",
    "'Kontakt z obsluga spa pod nr :345-890-798. lub 234 567 890.'\n",
    "\n",
    "find_number(text)"
   ]
  },
  {
   "cell_type": "markdown",
   "metadata": {},
   "source": [
    "<p> Notice that search() func returns only one, first match. </p>"
   ]
  },
  {
   "cell_type": "markdown",
   "metadata": {},
   "source": [
    "### 1.2 Finding all matches in string ###\n",
    " \n",
    "* Call findall() function on regex object and pass a string to it. (instead of using search() function)"
   ]
  },
  {
   "cell_type": "code",
   "execution_count": 49,
   "metadata": {},
   "outputs": [],
   "source": [
    "# Write function to search a text for all phone numbers (e.x. 675 678 900, 675-678-900, 675678900)\n",
    "def find_numbers(text):\n",
    "    pattern = re.compile(r'\\D\\d{3}\\s\\d{3}\\s\\d{3}\\D|\\D\\d{3}-\\d{3}-\\d{3}\\D|\\D\\d{9}\\D')\n",
    "    mo = pattern.findall(text)\n",
    "    if mo != []:\n",
    "        mo = list(map(lambda x:x[1:-1], mo))\n",
    "        return mo\n",
    "    else:\n",
    "        return 'No match'"
   ]
  },
  {
   "cell_type": "code",
   "execution_count": 50,
   "metadata": {},
   "outputs": [
    {
     "data": {
      "text/plain": [
       "['123456789', '345-890-798']"
      ]
     },
     "execution_count": 50,
     "metadata": {},
     "output_type": "execute_result"
    }
   ],
   "source": [
    "text = 'Dzis jest 24.10. Szukamy chetnych do pracy za 12 zł/h. Platacja ma wysokosc 34567 '\\\n",
    "'metrow. Prosze  kontakt na nr 123456789 lub do biura na numer 456 23 23.345-890-798 ' \\\n",
    "'Kontakt z obsluga spa pod nr 1345-890-798. lub 234567 890.'\n",
    "\n",
    "find_numbers(text)"
   ]
  },
  {
   "cell_type": "code",
   "execution_count": null,
   "metadata": {},
   "outputs": [],
   "source": []
  },
  {
   "cell_type": "markdown",
   "metadata": {},
   "source": [
    "### Notes ###\n",
    "* findall() function returns a list, search() function returns a Match Object. \n",
    "* Remember to crate a regex object with raw string! "
   ]
  },
  {
   "cell_type": "markdown",
   "metadata": {},
   "source": [
    "### 1.3 Grouping with parentheses ###\n",
    "* One set of parentheses in pattern is one group, first set - first group, second - second group etc.\n",
    "* To grab first group with Match Object use group(1) on MO.\n",
    "* To grab the whole match, use group() without an argument."
   ]
  },
  {
   "cell_type": "code",
   "execution_count": 82,
   "metadata": {},
   "outputs": [],
   "source": [
    "def find_number(text, g):\n",
    "    pattern = re.compile(r'\\D(\\d{3})\\s(\\d{3}\\s\\d{3})\\D')\n",
    "    mo = pattern.search(text)\n",
    "    if mo != None:\n",
    "        return mo.group(g)\n",
    "    else:\n",
    "        return 'No match'"
   ]
  },
  {
   "cell_type": "code",
   "execution_count": 86,
   "metadata": {},
   "outputs": [
    {
     "data": {
      "text/plain": [
       "('678 903', '415')"
      ]
     },
     "execution_count": 86,
     "metadata": {},
     "output_type": "execute_result"
    }
   ],
   "source": [
    "text = \"123456789, it's not my number! My number is 415 678 903.\"\n",
    "\n",
    "# In this case, the first group will be '415' and the second one is '678 903'. Let's check it!\n",
    "\n",
    "find_number(text, 2), find_number(text, 1)"
   ]
  },
  {
   "cell_type": "markdown",
   "metadata": {},
   "source": [
    "### 1.4 Matching multiple groups with pipe | ###\n",
    "\n",
    "* alternative of patterns, the first one in text which is pass to search() func is taken as Match Object.\n",
    "* option with using parentheses works only when used with search(), not findall()."
   ]
  },
  {
   "cell_type": "code",
   "execution_count": 4,
   "metadata": {},
   "outputs": [
    {
     "name": "stdout",
     "output_type": "stream",
     "text": [
      "Batman man\n"
     ]
    }
   ],
   "source": [
    "ro = re.compile(r'Bat(man|mobile)')\n",
    "mo = ro.search('I like Batman very much and Batmobile as well.')\n",
    "print(mo.group(), mo.group(1))"
   ]
  },
  {
   "cell_type": "code",
   "execution_count": 5,
   "metadata": {},
   "outputs": [
    {
     "name": "stdout",
     "output_type": "stream",
     "text": [
      "['man', 'mobile']\n"
     ]
    }
   ],
   "source": [
    "ro = re.compile(r'Bat(man|mobile)')\n",
    "mo = ro.findall('I like Batman very much and Batmobile as well.')\n",
    "print(mo)"
   ]
  },
  {
   "cell_type": "markdown",
   "metadata": {},
   "source": [
    "### 1.5 Optional matching with question mark ? ###\n",
    "* The part of a string in parentheses, before the '?' is optional\n",
    "* works only with search() method"
   ]
  },
  {
   "cell_type": "code",
   "execution_count": 11,
   "metadata": {},
   "outputs": [
    {
     "name": "stdout",
     "output_type": "stream",
     "text": [
      "Batman\n"
     ]
    }
   ],
   "source": [
    "ro = re.compile(r'Bat(wo)?man')\n",
    "mo = ro.search('I like Batman very much and Batwoman as well.')\n",
    "print(mo.group())"
   ]
  },
  {
   "cell_type": "code",
   "execution_count": 9,
   "metadata": {},
   "outputs": [
    {
     "name": "stdout",
     "output_type": "stream",
     "text": [
      "['', 'wo']\n"
     ]
    }
   ],
   "source": [
    "ro = re.compile(r'Bat(wo)?man')\n",
    "mo = ro.findall('I like Batman very much and Batwoman as well.')\n",
    "print(mo)"
   ]
  },
  {
   "cell_type": "markdown",
   "metadata": {},
   "source": [
    "### 1.6 Matching zero or more with the star * ###"
   ]
  },
  {
   "cell_type": "code",
   "execution_count": 15,
   "metadata": {},
   "outputs": [
    {
     "name": "stdout",
     "output_type": "stream",
     "text": [
      "batman batwowoman batwowowowowoman\n"
     ]
    }
   ],
   "source": [
    "ro = re.compile(r'bat(wo)*man')\n",
    "mo = ro.search('me and batman')\n",
    "mo1 = ro.search('she is a batwowoman')\n",
    "mo2 = ro.search('batwowowowowoman')\n",
    "print(mo.group(), mo1.group(), mo2.group())"
   ]
  },
  {
   "cell_type": "markdown",
   "metadata": {},
   "source": [
    "### 1.7 Matching one or more with the plus + ###\n",
    "* similar to matching with a star, but in this case group has to appear at least 1 time"
   ]
  },
  {
   "cell_type": "code",
   "execution_count": 18,
   "metadata": {},
   "outputs": [
    {
     "name": "stdout",
     "output_type": "stream",
     "text": [
      "No match\n"
     ]
    }
   ],
   "source": [
    "ro = re.compile(r'bat(wo)+man')\n",
    "mo = ro.search('me and batman')\n",
    "if mo != None:\n",
    "    print(mo.group())\n",
    "else:\n",
    "    print('No match')"
   ]
  },
  {
   "cell_type": "code",
   "execution_count": 27,
   "metadata": {},
   "outputs": [
    {
     "data": {
      "text/plain": [
       "'batwowoman'"
      ]
     },
     "execution_count": 27,
     "metadata": {},
     "output_type": "execute_result"
    }
   ],
   "source": [
    "ro = re.compile(r'bat(wo)+man')\n",
    "mo = ro.search('I am a batwowoman')\n",
    "mo.group()"
   ]
  },
  {
   "cell_type": "markdown",
   "metadata": {},
   "source": [
    "### 1.8 Matching specific repetitions with curly brackets {} ###"
   ]
  },
  {
   "cell_type": "markdown",
   "metadata": {},
   "source": [
    "* Use when you want to it repeat a group a specific number of times\n",
    "* ('String'){3} - 'String' group appears 3 times -> 'StringStringString'\n",
    "* ('string'){2,5} - appears 2 min. and 5 max. times\n",
    "* ('string'){2,} - appears 2 times min.\n",
    "* ('string'){,5} - appears 5 times max."
   ]
  },
  {
   "cell_type": "code",
   "execution_count": 26,
   "metadata": {},
   "outputs": [
    {
     "data": {
      "text/plain": [
       "'HaHaHa'"
      ]
     },
     "execution_count": 26,
     "metadata": {},
     "output_type": "execute_result"
    }
   ],
   "source": [
    "haRegex = re.compile(r'(Ha){3}')\n",
    "mo1 = haRegex.search('HaHaHa')\n",
    "mo1.group()"
   ]
  },
  {
   "cell_type": "code",
   "execution_count": 28,
   "metadata": {},
   "outputs": [
    {
     "data": {
      "text/plain": [
       "True"
      ]
     },
     "execution_count": 28,
     "metadata": {},
     "output_type": "execute_result"
    }
   ],
   "source": [
    "reg = re.compile(r'Ha{3}')\n",
    "mo2 = reg.search('Ha')\n",
    "mo2 == None"
   ]
  },
  {
   "cell_type": "markdown",
   "metadata": {},
   "source": [
    "### 1.9 Greedy and nongreedy matching ###\n",
    "* greedy matching by default - finds the longest matching string {3,5}\n",
    "* nongreedy matching - finds the shortest matching string {3,5}?"
   ]
  },
  {
   "cell_type": "code",
   "execution_count": 30,
   "metadata": {},
   "outputs": [
    {
     "data": {
      "text/plain": [
       "'hahahahaha'"
      ]
     },
     "execution_count": 30,
     "metadata": {},
     "output_type": "execute_result"
    }
   ],
   "source": [
    "# Greedy matching\n",
    "reg = re.compile(r'(ha){3,5}')\n",
    "mo =reg.search('hahahahaha')\n",
    "mo.group()"
   ]
  },
  {
   "cell_type": "code",
   "execution_count": 31,
   "metadata": {},
   "outputs": [
    {
     "data": {
      "text/plain": [
       "'hahaha'"
      ]
     },
     "execution_count": 31,
     "metadata": {},
     "output_type": "execute_result"
    }
   ],
   "source": [
    "# Nongreedy matching\n",
    "reg = re.compile(r'(ha){3,5}?')\n",
    "mo =reg.search('hahahahaha')\n",
    "mo.group()"
   ]
  },
  {
   "cell_type": "markdown",
   "metadata": {},
   "source": [
    "### 1.10 Character classes and making character classes###\n",
    "* character class is written like this: [abc], for class with 'a', 'b', 'c' characters, it's a shortcut for regex ex - (r'a|b|c')\n",
    "* we can use a hypen to precisize how broad is a class e.x. [0-5] stand for regex expression- (r'0|1|2|3|4|5')\n",
    "* in square brackets there is no need to escape special characters with backslash e.x. [1-5.] \n",
    "* '^' at the bieginning of character class, creates a negative class, including all the character that are NOT in character class\n",
    "\n",
    "### Making character class ###"
   ]
  },
  {
   "cell_type": "code",
   "execution_count": 61,
   "metadata": {},
   "outputs": [
    {
     "data": {
      "text/plain": [
       "['I', 'a', 'e', 'e', 'e', 'a', 'y', 'e', 'o', 'e', 'y', 'e', 'e', 'a', 'y']"
      ]
     },
     "execution_count": 61,
     "metadata": {},
     "output_type": "execute_result"
    }
   ],
   "source": [
    "# Creating character class with vowels 'a','e','i','y','o','u' (capital as well).\n",
    "vowel = re.compile(r'[aoueiyAOUEIY]')\n",
    "mo = vowel.findall('I was there the day before yesterday.')\n",
    "mo"
   ]
  },
  {
   "cell_type": "markdown",
   "metadata": {},
   "source": [
    "### Making negative character class with ^ ###"
   ]
  },
  {
   "cell_type": "code",
   "execution_count": 66,
   "metadata": {},
   "outputs": [
    {
     "name": "stdout",
     "output_type": "stream",
     "text": [
      "[' ', 'w', 's', ' ', 't', 'h', 'r', ' ', 't', 'h', ' ', 'd', ' ', 'b', 'f', 'r', ' ', 's', 't', 'r', 'd', '.']\n"
     ]
    }
   ],
   "source": [
    "not_vowel = re.compile(r'[^aoueiyAOUEIY]')\n",
    "mo = not_vowel.findall('I was there the day before yesterday.')\n",
    "print(mo)"
   ]
  },
  {
   "cell_type": "code",
   "execution_count": 60,
   "metadata": {},
   "outputs": [
    {
     "name": "stdout",
     "output_type": "stream",
     "text": [
      "['R', 'e', 'b', 'e', 'c', 'c', 'a', 'k', 'n', 'o', 'w', 'h', 'o', 't', 't', 'o', 's', 'i', 'n', 'g', 's', 'i', 'n', 'c', 'e', 's', 'h', 'e', 'w', 'a', 's', '1', '8']\n"
     ]
    }
   ],
   "source": [
    "# Creating character class with all lowercase and uppercase letters and numerical digits\n",
    "\n",
    "allwordsigns = re.compile(r'[a-zA-z0-9]')\n",
    "mo = allwordsigns.findall('Rebecca know hot to sing since she was 18.')\n",
    "print(mo)"
   ]
  },
  {
   "cell_type": "markdown",
   "metadata": {},
   "source": [
    "### 1.11 The dollar and caret characters ###\n",
    "* Caret sign ^ at the beginning of regex indicates, that match must occure at the beggining of searched text.\n",
    "* Dollar sign at the end of regex indicates, that match must occure at the end of searched text."
   ]
  },
  {
   "cell_type": "code",
   "execution_count": 69,
   "metadata": {},
   "outputs": [
    {
     "data": {
      "text/plain": [
       "(<re.Match object; span=(0, 5), match='Hello'>, None)"
      ]
     },
     "execution_count": 69,
     "metadata": {},
     "output_type": "execute_result"
    }
   ],
   "source": [
    "# Caret character ^\n",
    "beginswith = re.compile(r'^Hello')\n",
    "mo1 = beginswith.search('Hello world')\n",
    "mo2 = beginswith.search('Oh, Hello my dear!')\n",
    "mo1, mo2"
   ]
  },
  {
   "cell_type": "code",
   "execution_count": 70,
   "metadata": {},
   "outputs": [
    {
     "data": {
      "text/plain": [
       "(None, <re.Match object; span=(15, 18), match='wow'>)"
      ]
     },
     "execution_count": 70,
     "metadata": {},
     "output_type": "execute_result"
    }
   ],
   "source": [
    "# Dollar character $\n",
    "endswith = re.compile(r'wow$')\n",
    "mo3 = endswith.search('wow it looks nice')\n",
    "mo4 = endswith.search('it looks nice, wow')\n",
    "mo3, mo4"
   ]
  },
  {
   "cell_type": "code",
   "execution_count": 71,
   "metadata": {},
   "outputs": [
    {
     "data": {
      "text/plain": [
       "(<re.Match object; span=(0, 5), match='house'>, None)"
      ]
     },
     "execution_count": 71,
     "metadata": {},
     "output_type": "execute_result"
    }
   ],
   "source": [
    "# Caret and dollar together in one regex\n",
    "startsends = re.compile('^house$')\n",
    "mo5 = startsends.search('house')\n",
    "mo6 = startsends.search('house is beautiful')\n",
    "mo5, mo6"
   ]
  },
  {
   "cell_type": "markdown",
   "metadata": {},
   "source": [
    "### 1.12 The wildcard character  '.' ###\n",
    "* . (dot) match any character except for a newline "
   ]
  },
  {
   "cell_type": "code",
   "execution_count": 74,
   "metadata": {},
   "outputs": [
    {
     "name": "stdout",
     "output_type": "stream",
     "text": [
      "p012\n"
     ]
    }
   ],
   "source": [
    "reg = re.compile(r'.\\d{3}$')\n",
    "mo = reg.search(\"It must be a missunderstanding, please call a p012\")\n",
    "print(mo.group())"
   ]
  },
  {
   "cell_type": "code",
   "execution_count": 76,
   "metadata": {},
   "outputs": [
    {
     "name": "stdout",
     "output_type": "stream",
     "text": [
      "['cat', 'hat', 'sat', ' at']\n"
     ]
    }
   ],
   "source": [
    "reg = re.compile(r'.at')\n",
    "mo = reg.findall('cat in the hat sat at the couch.')\n",
    "print(mo)"
   ]
  },
  {
   "cell_type": "markdown",
   "metadata": {},
   "source": [
    "### 1.13 Matching everything with dot-star .* ###"
   ]
  },
  {
   "cell_type": "code",
   "execution_count": 82,
   "metadata": {},
   "outputs": [
    {
     "data": {
      "text/plain": [
       "(' Edward', ' Tompson')"
      ]
     },
     "execution_count": 82,
     "metadata": {},
     "output_type": "execute_result"
    }
   ],
   "source": [
    "namereg = re.compile(r'First name:(.*) Last name:(.*)')\n",
    "mo = namereg.search('First name: Edward Last name: Tompson')\n",
    "mo.group(1), mo.group(2)"
   ]
  },
  {
   "cell_type": "code",
   "execution_count": 83,
   "metadata": {},
   "outputs": [
    {
     "data": {
      "text/plain": [
       "(' Edward', '')"
      ]
     },
     "execution_count": 83,
     "metadata": {},
     "output_type": "execute_result"
    }
   ],
   "source": [
    "# The same example but in non-greedy manner\n",
    "namereg = re.compile(r'First name:(.*?) Last name:(.*?)')\n",
    "mo = namereg.search('First name: Edward Last name: Tompson')\n",
    "mo.group(1), mo.group(2)"
   ]
  },
  {
   "cell_type": "code",
   "execution_count": 85,
   "metadata": {},
   "outputs": [
    {
     "data": {
      "text/plain": [
       "'<i talk to you all> and you as well>'"
      ]
     },
     "execution_count": 85,
     "metadata": {},
     "output_type": "execute_result"
    }
   ],
   "source": [
    "# Greedy again\n",
    "greedy = re.compile(r'<.*>')\n",
    "mo1 = greedy.search('<i talk to you all> and you as well>')\n",
    "mo1.group()"
   ]
  },
  {
   "cell_type": "code",
   "execution_count": 86,
   "metadata": {},
   "outputs": [
    {
     "data": {
      "text/plain": [
       "'<i talk to you all>'"
      ]
     },
     "execution_count": 86,
     "metadata": {},
     "output_type": "execute_result"
    }
   ],
   "source": [
    "# Non-greedy\n",
    "nongreedy = re.compile(r'<.*?>')\n",
    "mo2 = nongreedy.search('<i talk to you all> and you as well>')\n",
    "mo2.group()"
   ]
  },
  {
   "cell_type": "markdown",
   "metadata": {},
   "source": [
    "### 1.13 Matching newlines with dot character ###\n",
    "* dot character stand for every character except a newline character (\\n)\n",
    "* if we want to include \\n as well, we can send re.DOTALL as a second argument to re.compile()"
   ]
  },
  {
   "cell_type": "code",
   "execution_count": 100,
   "metadata": {},
   "outputs": [
    {
     "data": {
      "text/plain": [
       "'I was very curiose about it.'"
      ]
     },
     "execution_count": 100,
     "metadata": {},
     "output_type": "execute_result"
    }
   ],
   "source": [
    "# Without re.DOTALL\n",
    "reg = re.compile(r'.*')\n",
    "reg.search('I was very curiose about it.\\n But she was not.').group()"
   ]
  },
  {
   "cell_type": "code",
   "execution_count": 101,
   "metadata": {},
   "outputs": [
    {
     "data": {
      "text/plain": [
       "'I was very curiose about it.\\nBut she was not.'"
      ]
     },
     "execution_count": 101,
     "metadata": {},
     "output_type": "execute_result"
    }
   ],
   "source": [
    "# With re.DOTALL\n",
    "reg = re.compile(r'.*', re.DOTALL)\n",
    "reg.search('I was very curiose about it.\\nBut she was not.').group()"
   ]
  },
  {
   "cell_type": "markdown",
   "metadata": {},
   "source": [
    "### 1.14 Case-insensitive matching ###\n",
    "* pass re.IGNORECASE or re.I to re.compile()"
   ]
  },
  {
   "cell_type": "code",
   "execution_count": 103,
   "metadata": {},
   "outputs": [
    {
     "data": {
      "text/plain": [
       "'robOcop'"
      ]
     },
     "execution_count": 103,
     "metadata": {},
     "output_type": "execute_result"
    }
   ],
   "source": [
    "reg = re.compile(r'roBocOP', re.I)\n",
    "reg.search('robOcop is somthing').group()"
   ]
  },
  {
   "cell_type": "markdown",
   "metadata": {},
   "source": [
    "### 1.15 Substituting strings with a sub() method ###"
   ]
  },
  {
   "cell_type": "code",
   "execution_count": 117,
   "metadata": {},
   "outputs": [
    {
     "data": {
      "text/plain": [
       "'I heard that CENSORED has confidential informations.'"
      ]
     },
     "execution_count": 117,
     "metadata": {},
     "output_type": "execute_result"
    }
   ],
   "source": [
    "reg = re.compile(r'A\\w{3}.*?\\s\\w{4}')\n",
    "reg.sub('CENSORED', 'I heard that Alicja Keys has confidential informations.')"
   ]
  },
  {
   "cell_type": "code",
   "execution_count": 120,
   "metadata": {},
   "outputs": [
    {
     "data": {
      "text/plain": [
       "'T**** told A**** that she must meet J**** in Belgium'"
      ]
     },
     "execution_count": 120,
     "metadata": {},
     "output_type": "execute_result"
    }
   ],
   "source": [
    "reg = re.compile(r'Agent (\\w)\\w*')\n",
    "reg.sub(r'\\1****', 'Agent Thomas told Agent Agatha that she must meet Agent Joanne in Belgium')"
   ]
  },
  {
   "cell_type": "markdown",
   "metadata": {},
   "source": [
    "### 1.16 Using re.VERBOSE to comment regex ###"
   ]
  },
  {
   "cell_type": "code",
   "execution_count": 122,
   "metadata": {},
   "outputs": [],
   "source": [
    "phoneRegex = re.compile(r'''(\n",
    " (\\d{3}|\\(\\d{3}\\))?           # area code\n",
    " (\\s|-|\\.)?                   # separator\n",
    " \\d{3}                        # first 3 digits\n",
    " (\\s|-|\\.)                    # separator\n",
    " \\d{4}                        # last 4 digits\n",
    " (\\s*(ext|x|ext.)\\s*\\d{2,5})? # extension\n",
    " )''', re.VERBOSE)"
   ]
  },
  {
   "cell_type": "code",
   "execution_count": 125,
   "metadata": {},
   "outputs": [
    {
     "data": {
      "text/plain": [
       "'(415) 675 4563  x  23456'"
      ]
     },
     "execution_count": 125,
     "metadata": {},
     "output_type": "execute_result"
    }
   ],
   "source": [
    "phoneRegex.search('(415) 675 4563  x  23456. I was sure this is 3456767222222').group()"
   ]
  },
  {
   "cell_type": "code",
   "execution_count": null,
   "metadata": {},
   "outputs": [],
   "source": []
  }
 ],
 "metadata": {
  "kernelspec": {
   "display_name": "Python 3",
   "language": "python",
   "name": "python3"
  },
  "language_info": {
   "codemirror_mode": {
    "name": "ipython",
    "version": 3
   },
   "file_extension": ".py",
   "mimetype": "text/x-python",
   "name": "python",
   "nbconvert_exporter": "python",
   "pygments_lexer": "ipython3",
   "version": "3.7.4"
  }
 },
 "nbformat": 4,
 "nbformat_minor": 2
}
