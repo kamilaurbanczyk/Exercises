{
 "cells": [
  {
   "cell_type": "markdown",
   "metadata": {},
   "source": [
    "## Timing function ##"
   ]
  },
  {
   "cell_type": "code",
   "execution_count": 8,
   "metadata": {},
   "outputs": [
    {
     "name": "stdout",
     "output_type": "stream",
     "text": [
      "Runtime for waste_time function is: 0.9528449000000592\n"
     ]
    }
   ],
   "source": [
    "import functools\n",
    "import time\n",
    "\n",
    "def measure_time(my_func):\n",
    "    functools.wraps(my_func)\n",
    "    def wrapper(*args, **kwargs):\n",
    "        start = time.perf_counter()\n",
    "        value = my_func(*args, **kwargs)\n",
    "        end = time.perf_counter()\n",
    "        run_time = end - start\n",
    "        print('Runtime for {} function is: {}'.format(my_func.__name__, run_time))\n",
    "        return value\n",
    "    return wrapper\n",
    "\n",
    "@measure_time\n",
    "def waste_time(num):\n",
    "    for i in range(num):\n",
    "        sum([n**2 for n in range(1000)])\n",
    "        \n",
    "waste_time(1000)"
   ]
  },
  {
   "cell_type": "code",
   "execution_count": null,
   "metadata": {},
   "outputs": [],
   "source": []
  }
 ],
 "metadata": {
  "kernelspec": {
   "display_name": "Python 3",
   "language": "python",
   "name": "python3"
  },
  "language_info": {
   "codemirror_mode": {
    "name": "ipython",
    "version": 3
   },
   "file_extension": ".py",
   "mimetype": "text/x-python",
   "name": "python",
   "nbconvert_exporter": "python",
   "pygments_lexer": "ipython3",
   "version": "3.7.4"
  }
 },
 "nbformat": 4,
 "nbformat_minor": 2
}
